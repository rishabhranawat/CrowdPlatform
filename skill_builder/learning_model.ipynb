{
 "cells": [
  {
   "cell_type": "code",
   "execution_count": 45,
   "metadata": {
    "collapsed": true
   },
   "outputs": [],
   "source": [
    "# Required\n",
    "import json\n",
    "\n",
    "import pandas as pd\n",
    "import numpy as np\n",
    "from scipy.optimize import minimize"
   ]
  },
  {
   "cell_type": "code",
   "execution_count": 46,
   "metadata": {
    "collapsed": false
   },
   "outputs": [],
   "source": [
    "# Package options\n",
    "pd.options.display.max_columns = 100\n",
    "pd.options.display.max_rows = 100"
   ]
  },
  {
   "cell_type": "code",
   "execution_count": 47,
   "metadata": {
    "collapsed": false
   },
   "outputs": [],
   "source": [
    "# ASSISTment Data\n",
    "df = pd.DataFrame()\n",
    "data = pd.read_csv('../skill_builder_data.csv')"
   ]
  },
  {
   "cell_type": "code",
   "execution_count": 48,
   "metadata": {
    "collapsed": true
   },
   "outputs": [],
   "source": [
    "# Prereq Graph\n",
    "f = open('prereq2.json')\n",
    "prereqs = json.load(f)"
   ]
  },
  {
   "cell_type": "code",
   "execution_count": 49,
   "metadata": {
    "collapsed": true
   },
   "outputs": [],
   "source": [
    "'''\n",
    "Initialize alpha (grasping power), \n",
    "f_s (takeaway fractions), \n",
    "counter_f_s (index for skill to takeaway fractions)\n",
    "'''\n",
    "def initialize(n, all_skills):\n",
    "    \n",
    "    alpha_vector = np.zeros(n+1)\n",
    "    \n",
    "    f_s = {}\n",
    "    counter_f_s = {}\n",
    "    counter = 0\n",
    "    for each in all_skills:\n",
    "        f_s[each] = 0.0\n",
    "        counter_f_s[each] = counter\n",
    "        counter += 1\n",
    "    return alpha_vector, f_s, counter_f_s"
   ]
  },
  {
   "cell_type": "code",
   "execution_count": 50,
   "metadata": {
    "collapsed": true
   },
   "outputs": [],
   "source": [
    "'''\n",
    "Sigmoid function\n",
    "1/(1+e^{-w'x})\n",
    "'''\n",
    "def sigmoid_function(weight, x):\n",
    "    return 1/(1 + np.exp(-np.dot(weight, x)))"
   ]
  },
  {
   "cell_type": "code",
   "execution_count": 51,
   "metadata": {
    "collapsed": true
   },
   "outputs": [],
   "source": [
    "'''\n",
    "Update Rule for Takeaway Fraction\n",
    "F_s(T_i, n) = F_s(T_i, n-1) + (1-F_s[T_i, n-1])*alpha(T_i, n)\n",
    "'''\n",
    "def update_f_s(f_s, skill_name, alpha):\n",
    "    f_s[skill_name] = f_s[skill_name] + (1-f_s[skill_name])*alpha\n",
    "    return f_s"
   ]
  },
  {
   "cell_type": "code",
   "execution_count": 52,
   "metadata": {
    "collapsed": true
   },
   "outputs": [],
   "source": [
    "'''\n",
    "Construct the feature vector\n",
    "'''\n",
    "def construct_feature_vector(n, f_s, counter_f_s, skill_name, prereqs):\n",
    "    # initilalize feature vector\n",
    "    feature_vector = np.zeros(n+1)\n",
    "    \n",
    "    # bias term\n",
    "    feature_vector[n] = 1\n",
    "    \n",
    "    # add F_s(skill_name)\n",
    "    feature_vector[counter_f_s[skill_name]] = f_s[skill_name]\n",
    "    \n",
    "    # add F_s for all prereqs\n",
    "    for each_skill in prereqs[skill_name]:\n",
    "        if(each_skill in f_s):\n",
    "            feature_vector[counter_f_s[each_skill]] = f_s[each_skill]\n",
    "    return feature_vector"
   ]
  },
  {
   "cell_type": "code",
   "execution_count": 53,
   "metadata": {
    "collapsed": true
   },
   "outputs": [],
   "source": [
    "def run_per_student(weight_vector, alpha_vector, f_s, counter_f_s, n_skills, per_student_frame):\n",
    "    for index, row in per_student_frame.iterrows():\n",
    "        # skill boiler\n",
    "        skill_name = row['skill_name']\n",
    "        skill_index = counter_f_s[skill_name]\n",
    "    \n",
    "        # construct feature vector\n",
    "        feature_vector = construct_feature_vector(n_skills, f_s, counter_f_s, \n",
    "                                                  skill_name, prereqs)\n",
    "        \n",
    "        # alpha vector update for T_i\n",
    "        alpha_vector[skill_index] = sigmoid_function(weight_vector, feature_vector)\n",
    "        \n",
    "        # Takeaway fraction update\n",
    "        f_s = update_f_s(f_s, skill_name, alpha_vector[skill_index])\n",
    "    return f_s"
   ]
  },
  {
   "cell_type": "code",
   "execution_count": 54,
   "metadata": {
    "collapsed": false
   },
   "outputs": [],
   "source": [
    "def run_all_students(weight_vector, user_ids, all_skills, sign=1.0):\n",
    "    students_to_f_s = {}\n",
    "    n_skills = len(all_skills)\n",
    "    for each_user in user_ids:\n",
    "        per_student = data.loc[data['user_id'] == each_user]\n",
    "        per_student = per_student[pd.notnull(per_student['skill_name'])]\n",
    "        per_student_frame = per_student.sort_values(by=['order_id'])\n",
    "\n",
    "        alpha_vector, f_s, counter_f_s = initialize(len(all_skills), all_skills)\n",
    "        all_f_s = run_per_student(weight_vector, alpha_vector, f_s, counter_f_s, n_skills, per_student_frame)\n",
    "        s = 1\n",
    "        for each in all_f_s.values():\n",
    "            s = s + each\n",
    "        students_to_f_s[each_user] = s\n",
    "    \n",
    "    mle = 1.\n",
    "    for each_ks in students_to_f_s.values():\n",
    "        mle = mle+np.log(each_ks)\n",
    "    return mle"
   ]
  },
  {
   "cell_type": "code",
   "execution_count": 69,
   "metadata": {
    "collapsed": true
   },
   "outputs": [],
   "source": [
    "all_skills = data['skill_name'].unique()\n",
    "user_ids = data['user_id'].unique()[:20]"
   ]
  },
  {
   "cell_type": "code",
   "execution_count": 70,
   "metadata": {
    "collapsed": false
   },
   "outputs": [
    {
     "name": "stdout",
     "output_type": "stream",
     "text": [
      "Optimization terminated successfully.\n",
      "         Current function value: 1.000005\n",
      "         Iterations: 1\n",
      "         Function evaluations: 456\n",
      "         Gradient evaluations: 4\n"
     ]
    }
   ],
   "source": [
    "w0 = np.zeros(len(all_skills)+1)\n",
    "opt = minimize(run_all_students, w0, method='BFGS', args=(user_ids, all_skills), options={'disp':True})"
   ]
  },
  {
   "cell_type": "code",
   "execution_count": 71,
   "metadata": {
    "collapsed": false
   },
   "outputs": [
    {
     "data": {
      "text/plain": [
       "111"
      ]
     },
     "execution_count": 71,
     "metadata": {},
     "output_type": "execute_result"
    }
   ],
   "source": [
    "np.argmin(opt.x)"
   ]
  },
  {
   "cell_type": "code",
   "execution_count": 72,
   "metadata": {
    "collapsed": false
   },
   "outputs": [
    {
     "data": {
      "text/plain": [
       "-21.17319164081335"
      ]
     },
     "execution_count": 72,
     "metadata": {},
     "output_type": "execute_result"
    }
   ],
   "source": [
    "opt.x[111]"
   ]
  },
  {
   "cell_type": "code",
   "execution_count": 73,
   "metadata": {
    "collapsed": true
   },
   "outputs": [],
   "source": [
    "alpha_vector, f_s, counter_f_s = initialize(len(all_skills), all_skills)"
   ]
  },
  {
   "cell_type": "code",
   "execution_count": 74,
   "metadata": {
    "collapsed": false
   },
   "outputs": [
    {
     "name": "stdout",
     "output_type": "stream",
     "text": [
      "(0.0, nan)\n",
      "(-0.052755590753834965, 'Circumference ')\n",
      "(-0.043782573474287205, 'Scientific Notation')\n",
      "(-0.12524167096401762, 'Rounding')\n",
      "(-0.34427293818645616, 'Multiplication Fractions')\n",
      "(0.0, 'Finding Slope From Situation')\n",
      "(-0.052823247811550685, 'Probability of Two Distinct Events')\n",
      "(-0.021472658692527569, 'Surface Area Rectangular Prism')\n",
      "(-0.033913100180006123, 'Counting Methods')\n",
      "(0.0, 'Percents')\n",
      "(-0.097180906276421536, 'Exponents')\n",
      "(-0.056256843490623626, 'Interior Angles Figures with More than 3 Sides')\n",
      "(0.0, 'Percent Discount')\n",
      "(0.0, 'Area Triangle')\n",
      "(-0.060637637977716687, 'Solving for a variable')\n",
      "(0.0, 'Recognize Quadratic Pattern')\n",
      "(-0.037820295263089124, 'Fraction Of')\n",
      "(0.0, 'Interpreting Coordinate Graphs ')\n",
      "(0.0, 'Parts of a Polyomial, Terms, Coefficient, Monomial, Exponent, Variable')\n",
      "(-0.072198537714890848, 'Scale Factor')\n",
      "(-0.039207264946261443, 'Estimation')\n",
      "(0.0, 'Reading a Ruler or Scale')\n",
      "(-0.019806603646277891, 'Write Linear Equation from Situation')\n",
      "(-0.036949210644999189, 'Least Common Multiple')\n",
      "(-0.053609761107495962, 'Prime Number')\n",
      "(-0.020153346067070969, 'Area Irregular Figure')\n",
      "(0.0, 'Linear Equations')\n",
      "(0.0, 'Finding Slope from Ordered Pairs')\n",
      "(0.0, 'Recognize Linear Pattern')\n",
      "(0.0, 'Simplifying Expressions positive exponents')\n",
      "(-0.10299095610775924, 'Equivalent Fractions')\n",
      "(-0.06303100639441038, 'Ordering Positive Decimals')\n",
      "(-0.033321100924993546, 'Percent Of')\n",
      "(-0.052950104794767666, 'Proportion')\n",
      "(-0.0132354119156383, 'Finding Percents')\n",
      "(-0.36476456954210579, 'Multiplication and Division Integers')\n",
      "(0.0, 'Algebraic Simplification')\n",
      "(-0.0055732501293326775, 'Ordering Fractions')\n",
      "(-0.038877436789897295, 'Number Line')\n",
      "(0.0, 'Finding Slope From Equation')\n",
      "(-0.027451851168154583, 'Translations')\n",
      "(-0.0051334792541804777, 'Conversion of Fraction Decimals Percents')\n",
      "(-0.068959456076750608, 'Complementary and Supplementary Angles')\n",
      "(0.0, 'Intercept')\n",
      "(-0.031891845580748902, 'Ordering Integers')\n",
      "(-0.028678135339252061, 'Multiplication Whole Numbers')\n",
      "(-0.0094466166835578159, 'Divisibility Rules')\n",
      "(-0.17737989106619662, 'Subtraction Whole Numbers')\n",
      "(-0.022436771764976621, 'Effect of Changing Dimensions of a Shape Prportionally')\n",
      "(-0.24216998096121581, 'Range')\n",
      "(-0.034319042526300463, 'Perimeter of a Polygon')\n",
      "(-0.031858017051891042, 'Area Circle')\n",
      "(-0.13294611841139559, 'Division Fractions')\n",
      "(0.0, 'Slope')\n",
      "(-0.012347413033119438, 'Rotations')\n",
      "(-0.044188515820581545, 'Write Linear Equation from Ordered Pairs')\n",
      "(0.0, 'Polynomial Factors')\n",
      "(-0.056958785464424254, 'Pythagorean Theorem')\n",
      "(0.0, 'Solving Systems of Linear Equations by Graphing')\n",
      "(-0.017878377501379786, 'Venn Diagram')\n",
      "(0.0, 'Midpoint')\n",
      "(-0.0012685698321698051, 'Area Trapezoid')\n",
      "(0.0, 'Algebraic Solving')\n",
      "(-0.038877436789897295, 'Solving Inequalities')\n",
      "(-0.027790136456733196, 'Addition and Subtraction Fractions')\n",
      "(-0.27399416948424898, 'Absolute Value')\n",
      "(-0.0038902808186540689, 'Volume Rectangular Prism')\n",
      "(0.0, 'Quadratic Formula to Solve Quadratic Equation')\n",
      "(-0.21394853076154488, 'Equation Solving Two or Fewer Steps')\n",
      "(-0.11342705726040951, 'Histogram as Table or Graph')\n",
      "(-0.064502547399727356, 'Order of Operations +,-,/,* () positive reals')\n",
      "(-0.03272910166998097, 'Reflection')\n",
      "(-0.080486527285066903, 'Scatter Plot')\n",
      "(0.0, 'Distributive Property')\n",
      "(-0.012051413405613149, 'Surface Area Cylinder')\n",
      "(0.0, 'Greatest Common Factor')\n",
      "(-0.072993508143050584, 'Circle Graph')\n",
      "(-0.057077185315426764, 'Unit Rate')\n",
      "(0.0, 'Area Rectangle')\n",
      "(-0.06786848602108457, 'D.4.8-understanding-concept-of-probabilities')\n",
      "(-0.067149629782855019, 'Unit Conversion Within a System')\n",
      "(-0.08507029294530713, 'Probability of a Single Event')\n",
      "(-0.026124081410483519, 'Ordering Real Numbers')\n",
      "(-0.032965901371986003, 'Write Linear Equation from Graph')\n",
      "(-0.019028547482547079, 'Volume Sphere')\n",
      "(0.0, 'Computation with Real Numbers')\n",
      "(-0.016914264428930736, 'Pattern Finding ')\n",
      "(0.0, 'Angles on Parallel Lines Cut by a Transversal')\n",
      "(-0.41407810748465335, 'Box and Whisker')\n",
      "(-0.038276980402670253, 'Interior Angles Triangle')\n",
      "(-0.015214380853823196, 'Calculations with Similar Figures')\n",
      "(0.0, 'Area Parallelogram')\n",
      "(-0.0061990779132031146, 'Volume Cylinder')\n",
      "(-0.062219121701821707, 'Order of Operations All')\n",
      "(-0.26850549067706098, 'Median')\n",
      "(-0.096394392980476265, 'Multiplication and Division Positive Decimals')\n",
      "(-0.36654902443935794, 'Mode')\n",
      "(0.0, 'Solving Systems of Linear Equations')\n",
      "(-0.46984443730683795, 'Addition Whole Numbers')\n",
      "(-0.056476728928199722, 'Nets of 3D Figures')\n",
      "(-0.2546696223741956, 'Mean')\n",
      "(-0.084774293317800842, 'Stem and Leaf Plot')\n",
      "(0.0, 'Choose an Equation from Given Information')\n",
      "(-0.087032347619063102, 'Congruence')\n",
      "(0.0, 'Angles - Obtuse, Acute, and Right')\n",
      "(-0.10208604296081145, 'Addition and Subtraction Positive Decimals')\n",
      "(0.0, 'Rate')\n",
      "(-0.44408401258157643, 'Addition and Subtraction Integers')\n",
      "(-0.039647035821413643, 'Square Root')\n",
      "(-0.11064466076185041, 'Equation Solving More Than Two Steps')\n",
      "(-0.13160143438929559, 'Table')\n"
     ]
    }
   ],
   "source": [
    "for k, v in counter_f_s.items():\n",
    "    print(opt.x[v], k)"
   ]
  },
  {
   "cell_type": "code",
   "execution_count": null,
   "metadata": {
    "collapsed": true
   },
   "outputs": [],
   "source": []
  }
 ],
 "metadata": {
  "kernelspec": {
   "display_name": "Python 2",
   "language": "python",
   "name": "python2"
  },
  "language_info": {
   "codemirror_mode": {
    "name": "ipython",
    "version": 2
   },
   "file_extension": ".py",
   "mimetype": "text/x-python",
   "name": "python",
   "nbconvert_exporter": "python",
   "pygments_lexer": "ipython2",
   "version": "2.7.10"
  }
 },
 "nbformat": 4,
 "nbformat_minor": 2
}
