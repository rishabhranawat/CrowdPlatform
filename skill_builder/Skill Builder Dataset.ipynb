{
 "cells": [
  {
   "cell_type": "markdown",
   "metadata": {
    "deletable": true,
    "editable": true
   },
   "source": [
    "### Parameter Estimation using ASSISTments Skill Builder Dataset"
   ]
  },
  {
   "cell_type": "code",
   "execution_count": 2,
   "metadata": {
    "collapsed": false,
    "deletable": true,
    "editable": true
   },
   "outputs": [],
   "source": [
    "import pandas as pd\n",
    "import json\n",
    "\n",
    "import autograd.numpy as np\n",
    "import autograd.scipy as ascipy\n",
    "from autograd import value_and_grad\n",
    "from autograd import grad\n",
    "from scipy.optimize import minimize\n",
    "\n",
    "pd.options.display.max_columns = 100\n",
    "pd.options.display.max_rows = 1000"
   ]
  },
  {
   "cell_type": "code",
   "execution_count": 4,
   "metadata": {
    "collapsed": false,
    "deletable": true,
    "editable": true
   },
   "outputs": [
    {
     "name": "stderr",
     "output_type": "stream",
     "text": [
      "/Users/rishabh/.virtualenvs/ml/lib/python2.7/site-packages/IPython/core/interactiveshell.py:2718: DtypeWarning: Columns (17,29) have mixed types. Specify dtype option on import or set low_memory=False.\n",
      "  interactivity=interactivity, compiler=compiler, result=result)\n"
     ]
    }
   ],
   "source": [
    "# ASSISTment Data\n",
    "df = pd.DataFrame()\n",
    "data = pd.read_csv('../skill_builder_data.csv')"
   ]
  },
  {
   "cell_type": "code",
   "execution_count": 5,
   "metadata": {
    "collapsed": true,
    "deletable": true,
    "editable": true
   },
   "outputs": [],
   "source": [
    "# prerequistes\n",
    "f = open('prereq.json')\n",
    "prereqs = json.load(f)\n"
   ]
  },
  {
   "cell_type": "code",
   "execution_count": 6,
   "metadata": {
    "collapsed": false,
    "deletable": true,
    "editable": true
   },
   "outputs": [],
   "source": [
    "# getting student 78178\n",
    "per_student = data.loc[data['user_id'] == 78178]\n",
    "per_student = per_student[pd.notnull(per_student['skill_name'])]\n",
    "per_student_frame = per_student.sort_values(by=['order_id'])\n",
    "# per_student_frame = per_student_frame[(per_student_frame['skill_name'] == 'Addition and Subtraction Fractions') \n",
    "#                                       | (per_student_frame['skill_name'] == 'Order of Operations All')]\n",
    "per_student_frame = per_student_frame.sort_values(by=['order_id'])\n",
    "\n",
    "n_skills = len(per_student_frame['skill_name'].unique())"
   ]
  },
  {
   "cell_type": "code",
   "execution_count": 7,
   "metadata": {
    "collapsed": false,
    "deletable": true,
    "editable": true
   },
   "outputs": [],
   "source": [
    "def initialize(n):\n",
    "    # initialize weight vector\n",
    "    weight_vector = np.random.rand(n+1)\n",
    "\n",
    "    # alpha (probability) vector\n",
    "    alpha_vector = np.zeros(n+1)\n",
    "    \n",
    "    # initialize takeaway dictionary\n",
    "    f_s = {}\n",
    "    counter_f_s = {}\n",
    "    counter = 0\n",
    "    for each in per_student_frame['skill_name'].unique():\n",
    "        f_s[each] = 0.0\n",
    "        counter_f_s[each] = counter\n",
    "        counter += 1\n",
    "    return alpha_vector, f_s, counter_f_s"
   ]
  },
  {
   "cell_type": "code",
   "execution_count": 8,
   "metadata": {
    "collapsed": false,
    "deletable": true,
    "editable": true,
    "scrolled": true
   },
   "outputs": [],
   "source": [
    "'''\n",
    "Sigmoid function\n",
    "1/(1+e^{-w'x})\n",
    "'''\n",
    "def sigmoid_function(weight, x):\n",
    "    return 1/(1 + np.exp(-np.dot(weight, x)))\n",
    "\n",
    "'''\n",
    "Update Rule for Takeaway Fraction\n",
    "F_s(T_i, n) = F_s(T_i, n-1) + (1-F_s[T_i, n-1])*alpha(T_i, n)\n",
    "'''\n",
    "def update_f_s(f_s, skill_name, alpha):\n",
    "    f_s[skill_name] = f_s[skill_name] + (1-f_s[skill_name])*alpha\n",
    "    return f_s"
   ]
  },
  {
   "cell_type": "code",
   "execution_count": 9,
   "metadata": {
    "collapsed": false,
    "deletable": true,
    "editable": true
   },
   "outputs": [],
   "source": [
    "def construct_feature_vector(n, f_s, counter_f_s, skill_name, prereqs):\n",
    "    # initilalize feature vector\n",
    "    feature_vector = np.zeros(n+1)\n",
    "    feature_vector[n] = 1\n",
    "    \n",
    "    # add F_s(skill_name)\n",
    "    feature_vector[counter_f_s[skill_name]] = f_s[skill_name]\n",
    "    \n",
    "    # add F_s for all prereqs\n",
    "    for each_skill in prereqs[skill_name]:\n",
    "        if(each_skill in f_s):\n",
    "            feature_vector[counter_f_s[each_skill]] = f_s[each_skill]\n",
    "    return feature_vector"
   ]
  },
  {
   "cell_type": "code",
   "execution_count": 20,
   "metadata": {
    "collapsed": false,
    "deletable": true,
    "editable": true,
    "scrolled": true
   },
   "outputs": [],
   "source": [
    "'''\n",
    "Student Updates.\n",
    "'''\n",
    "def update_student(weight_vector, alpha_vector, f_s, counter_f_s):\n",
    "    step = 1\n",
    "    for index, row in per_student_frame.iterrows():\n",
    "        skill_name = row['skill_name']\n",
    "        if(skill_name not in f_s): continue\n",
    "        skill_index = counter_f_s[skill_name]\n",
    "\n",
    "        feature_vector = construct_feature_vector(n_skills, f_s, counter_f_s, skill_name, prereqs)\n",
    "        alpha_vector[skill_index] = sigmoid_function(weight_vector, feature_vector)\n",
    "        \n",
    "        f_s = update_f_s(f_s, skill_name, alpha_vector[skill_index])\n",
    "\n",
    "#         feature_vector[skill_index] = f_s[skill_name]\n",
    "        step += 1\n",
    "    return f_s\n",
    "\n",
    "'''\n",
    "Log Likelihood.\n",
    "'''\n",
    "def log_likelihood(weight_vector, sign=1.0):\n",
    "    alpha_vector, f_s, counter_f_s = initialize(n_skills)\n",
    "    all_f_s = update_student(weight_vector, alpha_vector, f_s, counter_f_s)\n",
    "    s = 1\n",
    "    for each in all_f_s.values():\n",
    "        s = s + each\n",
    "    return np.log(s)\n",
    "\n",
    "def all_students_likelihood(weight_vector, sign=1.0):\n",
    "    ids = data['user_id'].unique()\n",
    "    "
   ]
  },
  {
   "cell_type": "code",
   "execution_count": 21,
   "metadata": {
    "collapsed": false,
    "deletable": true,
    "editable": true,
    "scrolled": true
   },
   "outputs": [
    {
     "name": "stdout",
     "output_type": "stream",
     "text": [
      "Optimization terminated successfully.\n",
      "         Current function value: 0.000004\n",
      "         Iterations: 7\n",
      "         Function evaluations: 1496\n",
      "         Gradient evaluations: 44\n"
     ]
    }
   ],
   "source": [
    "w0 = np.zeros(n_skills+1)\n",
    "\n",
    "# alphas = log_likelihood(w0, alpha_vector, f_s, counter_f_s, alphas)\n",
    "opt = minimize(log_likelihood, w0, method='CG', options={'disp':True})"
   ]
  },
  {
   "cell_type": "code",
   "execution_count": 22,
   "metadata": {
    "collapsed": false,
    "deletable": true,
    "editable": true
   },
   "outputs": [
    {
     "data": {
      "text/plain": [
       "array([ -2.42418115e-01,  -2.12256314e-02,  -1.41444867e+00,\n",
       "        -2.42418115e-01,  -1.08793902e-04,  -1.93933994e-01,\n",
       "        -7.75735974e-01,  -1.01327896e-05,  -1.74908370e-01,\n",
       "         0.00000000e+00,  -2.12256314e-02,  -1.91142608e-04,\n",
       "        -1.93933994e-01,  -8.24592338e-01,  -3.13780038e-05,\n",
       "        -1.93933994e-01,  -2.44610876e-03,  -3.13780038e-05,\n",
       "        -2.06055343e-01,  -1.66501309e-03,   0.00000000e+00,\n",
       "         0.00000000e+00,   0.00000000e+00,  -3.76021490e-06,\n",
       "        -1.14494091e-03,  -1.21263863e-02,  -3.14819044e-05,\n",
       "        -1.14618771e-03,  -2.08729529e-03,  -1.26768660e-04,\n",
       "        -1.26768660e-04,  -1.85617777e+01])"
      ]
     },
     "execution_count": 22,
     "metadata": {},
     "output_type": "execute_result"
    }
   ],
   "source": [
    "opt.x"
   ]
  },
  {
   "cell_type": "code",
   "execution_count": 15,
   "metadata": {
    "collapsed": false,
    "deletable": true,
    "editable": true
   },
   "outputs": [],
   "source": [
    "feature_vector = np.zeros(n_skills+1)\n",
    "feature_vector[n_skills] = 1.\n",
    "w = opt.x"
   ]
  },
  {
   "cell_type": "code",
   "execution_count": null,
   "metadata": {
    "collapsed": false,
    "deletable": true,
    "editable": true
   },
   "outputs": [],
   "source": []
  },
  {
   "cell_type": "code",
   "execution_count": 16,
   "metadata": {
    "collapsed": false,
    "deletable": true,
    "editable": true
   },
   "outputs": [],
   "source": [
    "alpha_vector, f_s, counter_f_s = initialize(n_skills)"
   ]
  },
  {
   "cell_type": "code",
   "execution_count": 19,
   "metadata": {
    "collapsed": false,
    "deletable": true,
    "editable": true
   },
   "outputs": [
    {
     "name": "stdout",
     "output_type": "stream",
     "text": [
      "('Write Linear Equation from Graph', -0.012126386282034218)\n",
      "('Percent Of', 0.0)\n",
      "('Proportion', 0.0)\n",
      "('Finding Percents', -3.1378003768622875e-05)\n",
      "('Multiplication and Division Integers', 0.0)\n",
      "('Algebraic Solving', -0.021225631353445351)\n",
      "('Solving Inequalities', -0.00012676866026595235)\n",
      "('Percents', -0.82459233759436756)\n",
      "('Ordering Fractions', -3.1378003768622875e-05)\n",
      "('Exponents', -0.001146187714766711)\n",
      "('Addition and Subtraction Fractions', -0.19393399357795715)\n",
      "('Absolute Value', -0.021225631353445351)\n",
      "('Number Line', -0.00012676866026595235)\n",
      "('Percent Discount', -0.19393399357795715)\n",
      "('Equation Solving Two or Fewer Steps', -0.0024461087596137077)\n",
      "('Conversion of Fraction Decimals Percents', -0.00019114260794594884)\n",
      "('Solving for a variable', -0.0011449409066699445)\n",
      "('Order of Operations +,-,/,* () positive reals', -0.24241811537649482)\n",
      "('Ordering Positive Decimals', -0.20605534315109253)\n",
      "('Order of Operations All', -0.00010879390174522996)\n",
      "('Subtraction Whole Numbers', -0.24241811537649482)\n",
      "('Addition and Subtraction Integers', -0.17490836995420977)\n",
      "('Rounding', -0.002087295288220048)\n",
      "('Multiplication Fractions', -1.0132789611816406e-05)\n",
      "('Addition Whole Numbers', -1.4144486738950945)\n",
      "('Estimation', 0.0)\n",
      "('Division Fractions', -0.77573597431182861)\n",
      "('Rate', -0.19393399357795715)\n",
      "('Square Root', -3.1481904443353415e-05)\n",
      "('Equation Solving More Than Two Steps', -0.0016650130855850875)\n",
      "('Equivalent Fractions', -3.7602148950099945e-06)\n"
     ]
    }
   ],
   "source": [
    "a = opt.x\n",
    "a\n",
    "for k,v in counter_f_s.items():\n",
    "    print(k, a[v])\n"
   ]
  },
  {
   "cell_type": "code",
   "execution_count": null,
   "metadata": {
    "collapsed": true,
    "deletable": true,
    "editable": true
   },
   "outputs": [],
   "source": []
  }
 ],
 "metadata": {
  "kernelspec": {
   "display_name": "Python 2",
   "language": "python",
   "name": "python2"
  },
  "language_info": {
   "codemirror_mode": {
    "name": "ipython",
    "version": 2
   },
   "file_extension": ".py",
   "mimetype": "text/x-python",
   "name": "python",
   "nbconvert_exporter": "python",
   "pygments_lexer": "ipython2",
   "version": "2.7.10"
  }
 },
 "nbformat": 4,
 "nbformat_minor": 2
}
