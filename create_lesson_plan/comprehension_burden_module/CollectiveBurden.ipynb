{
 "cells": [
  {
   "cell_type": "markdown",
   "metadata": {
    "deletable": true,
    "editable": true
   },
   "source": [
    "### Collective Burden for Sequencing Documents"
   ]
  },
  {
   "cell_type": "code",
   "execution_count": 105,
   "metadata": {
    "collapsed": false,
    "deletable": true,
    "editable": true
   },
   "outputs": [],
   "source": [
    "import requests\n",
    "from collections import Counter\n",
    "import random as randomlib\n",
    "\n",
    "from bs4 import BeautifulSoup\n",
    "import numpy as np\n",
    "import pandas as pd\n",
    "import networkx as nx\n",
    "\n",
    "pd.set_option('display.max_columns', None)\n",
    "pd.set_option('display.max_rows', None)"
   ]
  },
  {
   "cell_type": "code",
   "execution_count": 106,
   "metadata": {
    "collapsed": true,
    "deletable": true,
    "editable": true
   },
   "outputs": [],
   "source": [
    "'''\n",
    "Knowledge Graph\n",
    "'''\n",
    "kg_path = \"../graph_query/graphs/knowledge_graph.gpickle\"\n",
    "kg = nx.read_gpickle(kg_path)\n",
    "kg_labels = [str(x) for x in list(kg.nodes())[1:]]\n",
    "n_labels = len(kg_labels)"
   ]
  },
  {
   "cell_type": "code",
   "execution_count": 107,
   "metadata": {
    "collapsed": false,
    "deletable": true,
    "editable": true
   },
   "outputs": [],
   "source": [
    "def get_queries_based_on_node(node_label):\n",
    "    node = kg.node[node_label]\n",
    "\n",
    "    if(\"NodeType\" not in node): \n",
    "        kg.node[node_label][\"NodeType\"] = \"ConceptNode\"\n",
    "        l =  list(kg.neighbors(node_label))\n",
    "        return l\n",
    "    node_type = node[\"NodeType\"]\n",
    "    if(node_type == \"TopicNode\" or node_type == \"ConceptNode\"):\n",
    "        return list(kg.neighbors(node_label))\n",
    "    elif(node_type == \"SubConceptNode\"):\n",
    "        return [node_label]\n",
    "    else:\n",
    "        pass\n",
    "\n",
    "'''\n",
    "Returns a list of queries depending on the type of the\n",
    "node closest to the query.\n",
    "args - query(str)\n",
    "returns [] of str\n",
    "'''\n",
    "def query_formulator(query, label):\n",
    "    queries = []\n",
    "    children_neighbours = get_queries_based_on_node(label)\n",
    "    queries = [label]\n",
    "    for child in children_neighbours:\n",
    "        queries.append(child)\n",
    "    return list(set(queries))\n"
   ]
  },
  {
   "cell_type": "code",
   "execution_count": 108,
   "metadata": {
    "collapsed": true,
    "deletable": true,
    "editable": true
   },
   "outputs": [],
   "source": [
    "'''\n",
    "Get content from a given set of URLs.\n",
    "'''\n",
    "es_order = []\n",
    "def get_content():\n",
    "    f = open('lps/user_study_dynamic_programming_engage.txt', 'r')\n",
    "    l = f.readlines()\n",
    "    docs = {}\n",
    "    index = {}\n",
    "    \n",
    "    counter = 0\n",
    "    for url in l:\n",
    "        try:\n",
    "            docs[url] = requests.get(url).content\n",
    "            index[url] = counter\n",
    "            es_order.append(url)\n",
    "            counter += 1\n",
    "        except:\n",
    "            continue\n",
    "    return docs, index"
   ]
  },
  {
   "cell_type": "code",
   "execution_count": 109,
   "metadata": {
    "collapsed": true,
    "deletable": true,
    "editable": true
   },
   "outputs": [],
   "source": [
    "'''\n",
    "Term Frequency Array for a particular document.\n",
    "'''\n",
    "def get_tfd(content):\n",
    "    word_count_dict = Counter(w for w in kg_labels \n",
    "                              if w.lower() in content.lower())\n",
    "    common = word_count_dict.most_common()\n",
    "    \n",
    "    frequency_arr = [0]*len(kg_labels)\n",
    "    \n",
    "    for common_word in common:\n",
    "        common_word_index = kg_labels.index(common_word[0])\n",
    "        frequency_arr[common_word_index] = common_word[1]\n",
    "    return frequency_arr"
   ]
  },
  {
   "cell_type": "code",
   "execution_count": 110,
   "metadata": {
    "collapsed": false,
    "deletable": true,
    "editable": true
   },
   "outputs": [],
   "source": [
    "content, index = get_content()"
   ]
  },
  {
   "cell_type": "code",
   "execution_count": 111,
   "metadata": {
    "collapsed": false,
    "deletable": true,
    "editable": true
   },
   "outputs": [],
   "source": [
    "'''\n",
    "Building word_data a document (rows) by term frequency (columns) matrix.\n",
    "'''\n",
    "tfd_data = {}\n",
    "for url, cont in content.items():\n",
    "    tfd_data[url] = get_tfd(cont)\n",
    "\n",
    "tfd_arr = []\n",
    "for key in index.keys():\n",
    "    tfd_arr.append(key.replace(\"\\n\", \"\"))\n",
    "\n",
    "word_data = {'TFD':tfd_arr}\n",
    "\n",
    "for label in kg_labels:\n",
    "    word_data[label] = [None]*len(index)\n",
    "\n",
    "for url, words_in_doc in tfd_data.items():\n",
    "    url_index = index[url]\n",
    "    for i in range(0, n_labels, 1):\n",
    "        word = kg_labels[i]\n",
    "        word_data[word][url_index] = words_in_doc[i]"
   ]
  },
  {
   "cell_type": "code",
   "execution_count": 112,
   "metadata": {
    "collapsed": false,
    "deletable": true,
    "editable": true
   },
   "outputs": [],
   "source": [
    "'''\n",
    "(DTF)^T(DTF) = Coocurence Matrix\n",
    "'''\n",
    "document_term_frequency = pd.DataFrame(word_data).set_index('TFD')\n",
    "dtf_asint = document_term_frequency.astype(int)\n",
    "coocc = dtf_asint.T.dot(dtf_asint)"
   ]
  },
  {
   "cell_type": "markdown",
   "metadata": {
    "deletable": true,
    "editable": true
   },
   "source": [
    "### Calculating Relationship Score: S(i, j)"
   ]
  },
  {
   "cell_type": "code",
   "execution_count": 113,
   "metadata": {
    "collapsed": true,
    "deletable": true,
    "editable": true
   },
   "outputs": [],
   "source": [
    "def get_relationship_between_concepts(concept_1, concept_2):\n",
    "    concept_1_index= document_term_frequency.columns.get_loc(concept_1)\n",
    "    concept_2_index= document_term_frequency.columns.get_loc(concept_2)\n",
    "    \n",
    "    return coocc.iloc[concept_1_index, concept_2_index]"
   ]
  },
  {
   "cell_type": "markdown",
   "metadata": {
    "collapsed": false,
    "deletable": true,
    "editable": true
   },
   "source": [
    "### Significance of a concept in a document: \\lambda(c, i)"
   ]
  },
  {
   "cell_type": "code",
   "execution_count": 114,
   "metadata": {
    "collapsed": false,
    "deletable": true,
    "editable": true
   },
   "outputs": [],
   "source": [
    "def get_significance_score(concept, document):\n",
    "    if(document == None): return 0\n",
    "    concept_index = document_term_frequency.columns.get_loc(concept)\n",
    "    freq = dtf_asint.iloc[index[document]][concept_index]\n",
    "    coocc_row = coocc.iloc[concept_index,:] \n",
    "    r = np.array(coocc_row)\n",
    "    if(sum(r) == 0): return 0\n",
    "    return (freq)*np.count_nonzero(r)"
   ]
  },
  {
   "cell_type": "code",
   "execution_count": null,
   "metadata": {
    "collapsed": true,
    "deletable": true,
    "editable": true
   },
   "outputs": [],
   "source": []
  },
  {
   "cell_type": "markdown",
   "metadata": {
    "collapsed": false,
    "deletable": true,
    "editable": true
   },
   "source": [
    "### Key Sections k_c"
   ]
  },
  {
   "cell_type": "code",
   "execution_count": 115,
   "metadata": {
    "collapsed": false,
    "deletable": true,
    "editable": true,
    "scrolled": false
   },
   "outputs": [],
   "source": [
    "def get_doc_to_concepts_list(content, top_n):\n",
    "    doc_to_concept_list = {}\n",
    "    \n",
    "    for each_document in content.keys():\n",
    "        rt = []\n",
    "        rc = []\n",
    "        for each_concept in kg_labels:\n",
    "            s = get_significance_score(each_concept, each_document)\n",
    "            if(\"NodeType\" not in kg.node[each_concept]):\n",
    "                kg.node[each_concept][\"NodeType\"] = \"ConceptNode\"\n",
    "                rc.append((each_concept, s))\n",
    "            elif(kg.node[each_concept][\"NodeType\"] == \"ConceptNode\"):\n",
    "                rc.append((each_concept, s))\n",
    "            elif(kg.node[each_concept][\"NodeType\"] == \"TopicNode\"):\n",
    "                rt.append((each_concept, s))\n",
    "        \n",
    "        rt.sort(key=lambda x:x[1])\n",
    "        rt = rt[::-1]\n",
    "        \n",
    "        rc.sort(key=lambda x:x[1])\n",
    "        rc = rc[::-1]\n",
    "        \n",
    "        key_concepts = []\n",
    "        \n",
    "        while(len(key_concepts) < top_n and len(rc)):\n",
    "            key_concepts.append(rc[0][0])\n",
    "            rc.pop(0)\n",
    "            \n",
    "        while(len(key_concepts) < top_n and len(rt)):\n",
    "            key_concepts.append(rt[0][0])\n",
    "            rt.pop(0)\n",
    "        \n",
    "        doc_to_concept_list[each_document] = key_concepts\n",
    "    return doc_to_concept_list"
   ]
  },
  {
   "cell_type": "code",
   "execution_count": 116,
   "metadata": {
    "collapsed": true
   },
   "outputs": [],
   "source": [
    "def get_relevant_concepts_for_lp(doc_to_concepts_list):\n",
    "    rel = []\n",
    "    for key,val in doc_to_concepts_list.items():\n",
    "        for each in val:\n",
    "            rel.append(each)\n",
    "    return rel   "
   ]
  },
  {
   "cell_type": "markdown",
   "metadata": {
    "deletable": true,
    "editable": true
   },
   "source": [
    "### Comprehension Burden"
   ]
  },
  {
   "cell_type": "code",
   "execution_count": 139,
   "metadata": {
    "collapsed": false,
    "deletable": true,
    "editable": true
   },
   "outputs": [],
   "source": [
    "def f_cb(sig_score, key_sig_score, relationship):\n",
    "    return key_sig_score\n",
    "\n",
    "def get_cb_document(document, document_key_concepts, visited, relevant):\n",
    "    document_burden = 0.0\n",
    "    for other_concept in relevant:\n",
    "        if(other_concept in visited or other_concept in document_key_concepts): continue\n",
    "        \n",
    "        other_concept_burden = 0\n",
    "        for each_key_concept in document_key_concepts:\n",
    "            sig_score = get_significance_score(other_concept, document)\n",
    "            key_sig_score = get_significance_score(each_key_concept, document)\n",
    "            relationship = get_relationship_between_concepts(each_key_concept, \n",
    "                                                             other_concept) \n",
    "            other_concept_burden += f_cb(sig_score, key_sig_score, relationship)\n",
    "        other_concept_burden = other_concept_burden/len(document_key_concepts)\n",
    "        document_burden += other_concept_burden        \n",
    "    return document_burden"
   ]
  },
  {
   "cell_type": "code",
   "execution_count": null,
   "metadata": {
    "collapsed": false,
    "deletable": true,
    "editable": true
   },
   "outputs": [],
   "source": []
  },
  {
   "cell_type": "markdown",
   "metadata": {
    "deletable": true,
    "editable": true
   },
   "source": [
    "### Sequence Generation"
   ]
  },
  {
   "cell_type": "code",
   "execution_count": 140,
   "metadata": {
    "collapsed": false,
    "deletable": true,
    "editable": true
   },
   "outputs": [],
   "source": [
    "def get_linear(nodes):\n",
    "    parents = []\n",
    "    for each in nodes:\n",
    "        if(kg.nodes[each][\"NodeType\"] == \"TopicNode\"):\n",
    "            parents.append(each)\n",
    "    \n",
    "    linear = []\n",
    "    for p in parents:\n",
    "        linear.append(p)\n",
    "        children = kg.neighbors(p)\n",
    "        for c in children:\n",
    "            if c in nodes and kg.nodes[c][\"NodeType\"] == \"ConceptNode\":\n",
    "                linear.append(c)\n",
    "    \n",
    "    for each in nodes:\n",
    "        if each not in linear:\n",
    "            linear.append(each)\n",
    "    \n",
    "    return linear\n",
    "\n",
    "def get_es(nodes, key_doc):\n",
    "    order =[]\n",
    "    for each in es_order:\n",
    "        each = each.replace(\"\\n\", \"\")\n",
    "        \n",
    "        if(each in key_doc and key_doc[each] not in order):\n",
    "            order.append(key_doc[each])\n",
    "    for each in nodes:\n",
    "        if (each not in order):\n",
    "            order.append(each)\n",
    "    return order\n",
    "    \n",
    "def get_sequences(nodes, key_doc):\n",
    "        random = get_es(nodes, key_doc)\n",
    "        linear = get_linear(nodes)\n",
    "        top_down = linear[::-1]\n",
    "        return random, linear, top_down"
   ]
  },
  {
   "cell_type": "code",
   "execution_count": 141,
   "metadata": {
    "collapsed": true
   },
   "outputs": [],
   "source": [
    "def get_concepts_to_document_list(doc_to_concepts_list, relevant_concepts):\n",
    "    concept_to_document_list = {}\n",
    "    for each_concept in relevant_concepts:\n",
    "        concept_to_document_list[each_concept] = []\n",
    "        for doc, kcs in doc_to_concepts_list.items():\n",
    "            if(each_concept in kcs): \n",
    "                concept_to_document_list[each_concept].append(doc)\n",
    "    return concept_to_document_list\n",
    "                "
   ]
  },
  {
   "cell_type": "code",
   "execution_count": 142,
   "metadata": {
    "collapsed": true,
    "deletable": true,
    "editable": true
   },
   "outputs": [],
   "source": [
    "def get_burden_for_sequence(sequence, doc_to_concepts_list, concepts_to_document_list):\n",
    "    collective_burden = 0.0\n",
    "    \n",
    "    visited = set()\n",
    "    for each_relevant_concept in sequence:\n",
    "        visited.add(each_relevant_concept)\n",
    "        docs_assoc = concepts_to_document_list[each_relevant_concept]\n",
    "        for d in docs_assoc:\n",
    "            for other_keys in doc_to_concepts_list[d]:\n",
    "                visited.add(other_keys)\n",
    "            collective_burden += get_cb_document(d, doc_to_concepts_list[d], visited, sequence)\n",
    "    return collective_burden    "
   ]
  },
  {
   "cell_type": "code",
   "execution_count": 147,
   "metadata": {
    "collapsed": false,
    "deletable": true,
    "editable": true
   },
   "outputs": [
    {
     "name": "stdout",
     "output_type": "stream",
     "text": [
      "81.2142857143\n"
     ]
    }
   ],
   "source": [
    "doc_to_concepts_list = get_doc_to_concepts_list(content, 1)\n",
    "relevant_concepts_to_sequence = list(set(get_relevant_concepts_for_lp(doc_to_concepts_list)))\n",
    "concepts_to_document_list = get_concepts_to_document_list(doc_to_concepts_list, relevant_concepts_to_sequence)\n",
    "\n",
    "es, linear, bottom_up = get_sequences(relevant_concepts_to_sequence, doc_to_concepts_list)\n",
    "\n",
    "print(get_burden_for_sequence(linear, doc_to_concepts_list, concepts_to_document_list)/len(doc_to_concepts_list))\n",
    "\n",
    "# get_burden_for_sequence(bottom_up, doc_to_concepts_list, concepts_to_document_list)"
   ]
  },
  {
   "cell_type": "code",
   "execution_count": null,
   "metadata": {
    "collapsed": false,
    "deletable": true,
    "editable": true
   },
   "outputs": [],
   "source": []
  },
  {
   "cell_type": "code",
   "execution_count": null,
   "metadata": {
    "collapsed": false,
    "deletable": true,
    "editable": true
   },
   "outputs": [],
   "source": []
  },
  {
   "cell_type": "raw",
   "metadata": {
    "collapsed": true,
    "deletable": true,
    "editable": true
   },
   "source": []
  },
  {
   "cell_type": "code",
   "execution_count": null,
   "metadata": {
    "collapsed": true,
    "deletable": true,
    "editable": true
   },
   "outputs": [],
   "source": []
  },
  {
   "cell_type": "code",
   "execution_count": null,
   "metadata": {
    "collapsed": true,
    "deletable": true,
    "editable": true
   },
   "outputs": [],
   "source": []
  }
 ],
 "metadata": {
  "kernelspec": {
   "display_name": "Python 2",
   "language": "python",
   "name": "python2"
  },
  "language_info": {
   "codemirror_mode": {
    "name": "ipython",
    "version": 2
   },
   "file_extension": ".py",
   "mimetype": "text/x-python",
   "name": "python",
   "nbconvert_exporter": "python",
   "pygments_lexer": "ipython2",
   "version": "2.7.10"
  }
 },
 "nbformat": 4,
 "nbformat_minor": 2
}
