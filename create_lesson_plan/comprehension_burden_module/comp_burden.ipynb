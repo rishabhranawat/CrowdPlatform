{
 "cells": [
  {
   "cell_type": "markdown",
   "metadata": {},
   "source": [
    "### Comprehension Burden for Sequencing Documents"
   ]
  },
  {
   "cell_type": "code",
   "execution_count": 327,
   "metadata": {
    "collapsed": false,
    "deletable": true,
    "editable": true
   },
   "outputs": [],
   "source": [
    "import requests\n",
    "from collections import Counter\n",
    "\n",
    "from bs4 import BeautifulSoup\n",
    "import numpy as np\n",
    "import pandas as pd\n",
    "import networkx as nx\n",
    "\n",
    "pd.set_option('display.max_columns', None)\n",
    "pd.set_option('display.max_rows', None)"
   ]
  },
  {
   "cell_type": "code",
   "execution_count": 328,
   "metadata": {
    "collapsed": true,
    "deletable": true,
    "editable": true
   },
   "outputs": [],
   "source": [
    "'''\n",
    "Knowledge Graph\n",
    "'''\n",
    "kg_path = \"../graph_query/graphs/knowledge_graph.gpickle\"\n",
    "kg = nx.read_gpickle(kg_path)\n",
    "kg_labels = [str(x) for x in list(kg.nodes())[1:]]\n",
    "n_labels = len(kg_labels)"
   ]
  },
  {
   "cell_type": "code",
   "execution_count": 329,
   "metadata": {
    "collapsed": true
   },
   "outputs": [],
   "source": [
    "'''\n",
    "Get content from a given set of URLs.\n",
    "'''\n",
    "def get_content():\n",
    "    f = open('sample_urls.txt', 'r')\n",
    "    l = f.readlines()\n",
    "    docs = {}\n",
    "    index = {}\n",
    "    \n",
    "    counter = 0\n",
    "    for url in l:\n",
    "        docs[url] = requests.get(url).content\n",
    "        index[url] = counter\n",
    "        counter += 1\n",
    "    return docs, index"
   ]
  },
  {
   "cell_type": "markdown",
   "metadata": {},
   "source": [
    "### Calculating Relationship Score: S(i, j)"
   ]
  },
  {
   "cell_type": "code",
   "execution_count": 336,
   "metadata": {
    "collapsed": true,
    "deletable": true,
    "editable": true
   },
   "outputs": [],
   "source": [
    "'''\n",
    "Term Frequency Array for a particular document.\n",
    "'''\n",
    "def get_tfd(content):\n",
    "    word_count_dict = Counter(w for w in kg_labels \n",
    "                              if w.lower() in content.lower())\n",
    "    common = word_count_dict.most_common()\n",
    "    \n",
    "    frequency_arr = [0]*len(kg_labels)\n",
    "    \n",
    "    for common_word in common:\n",
    "        common_word_index = kg_labels.index(common_word[0])\n",
    "        frequency_arr[common_word_index] = common_word[1]\n",
    "    return frequency_arr"
   ]
  },
  {
   "cell_type": "code",
   "execution_count": 331,
   "metadata": {
    "collapsed": false,
    "deletable": true,
    "editable": true
   },
   "outputs": [],
   "source": [
    "content, index = get_content()"
   ]
  },
  {
   "cell_type": "code",
   "execution_count": 332,
   "metadata": {
    "collapsed": false,
    "deletable": true,
    "editable": true
   },
   "outputs": [
    {
     "name": "stdout",
     "output_type": "stream",
     "text": [
      "('Clustering', 1)\n",
      "('Supervised Learning', 1)\n",
      "('Unsupervised Learning', 1)\n",
      "('K-Means', 1)\n",
      "('Expectation Maximization', 1)\n",
      "('Machine Learning', 1)\n",
      "('Logistic Regression', 1)\n",
      "('Pca', 1)\n",
      "('Mixture Models', 1)\n",
      "('Svms', 1)\n",
      "('Computer Science', 1)\n",
      "('Clustering', 1)\n",
      "('K-means clustering', 1)\n",
      "('Supervised Learning', 1)\n",
      "('Unsupervised Learning', 1)\n",
      "('K-Means', 1)\n",
      "('Dfs', 1)\n",
      "('Machine Learning', 1)\n",
      "('Logistic Regression', 1)\n",
      "('Pca', 1)\n",
      "('Computer Science', 1)\n",
      "('Clustering', 1)\n",
      "('Sorting', 1)\n",
      "('Unsupervised Learning', 1)\n",
      "('K-Means', 1)\n",
      "('Computer Science', 1)\n",
      "('Supervised Learning', 1)\n",
      "('Support Vector Machines', 1)\n",
      "('Mixture Models', 1)\n",
      "('Mixture of Gaussians', 1)\n",
      "('Clustering', 1)\n",
      "('K-means clustering', 1)\n",
      "('Unsupervised Learning', 1)\n",
      "('Deep Learning', 1)\n",
      "('Machine Learning', 1)\n",
      "('Bfs', 1)\n",
      "('Optimization', 1)\n",
      "('K-Means', 1)\n",
      "('Supervised Learning', 1)\n",
      "('Operating Systems', 1)\n"
     ]
    }
   ],
   "source": [
    "'''\n",
    "Building word_data a document (rows) by term frequency (columns) matrix.\n",
    "'''\n",
    "tfd_data = {}\n",
    "for url, cont in content.items():\n",
    "    tfd_data[url] = get_tfd(cont)\n",
    "\n",
    "tfd_arr = []\n",
    "for key in index.keys():\n",
    "    tfd_arr.append(key.replace(\"\\n\", \"\"))\n",
    "\n",
    "word_data = {'TFD':tfd_arr}\n",
    "\n",
    "for label in kg_labels:\n",
    "    word_data[label] = [None]*len(index)\n",
    "\n",
    "for url, words_in_doc in tfd_data.items():\n",
    "    url_index = index[url]\n",
    "    for i in range(0, n_labels, 1):\n",
    "        word = kg_labels[i]\n",
    "        word_data[word][url_index] = words_in_doc[i]"
   ]
  },
  {
   "cell_type": "code",
   "execution_count": 333,
   "metadata": {
    "collapsed": false,
    "deletable": true,
    "editable": true
   },
   "outputs": [],
   "source": [
    "'''\n",
    "(DTF)^T(DTF) = Coocurence Matrix\n",
    "'''\n",
    "document_term_frequency = pd.DataFrame(word_data).set_index('TFD')\n",
    "dtf_asint = document_term_frequency.astype(int)\n",
    "coocc = dtf_asint.T.dot(dtf_asint)"
   ]
  },
  {
   "cell_type": "markdown",
   "metadata": {
    "collapsed": false,
    "deletable": true,
    "editable": true
   },
   "source": [
    "### Significance of a concept in a document: \\lambda(c, i)"
   ]
  },
  {
   "cell_type": "code",
   "execution_count": 337,
   "metadata": {
    "collapsed": false,
    "deletable": true,
    "editable": true
   },
   "outputs": [],
   "source": [
    "def get_significance_score(concept, document):\n",
    "    concept_index = document_term_frequency.columns.get_loc(concept)\n",
    "    freq = dtf_asint.iloc[index[document]][concept_index]\n",
    "    coocc_row = coocc.iloc[concept_index,:] \n",
    "    r = np.array(coocc_row)\n",
    "    return freq+0.3*np.count_nonzero(r)"
   ]
  },
  {
   "cell_type": "code",
   "execution_count": null,
   "metadata": {
    "collapsed": false,
    "deletable": true,
    "editable": true
   },
   "outputs": [],
   "source": []
  },
  {
   "cell_type": "markdown",
   "metadata": {
    "collapsed": false,
    "deletable": true,
    "editable": true
   },
   "source": [
    "### Key Sections"
   ]
  },
  {
   "cell_type": "code",
   "execution_count": 344,
   "metadata": {
    "collapsed": false,
    "deletable": true,
    "editable": true
   },
   "outputs": [
    {
     "name": "stdout",
     "output_type": "stream",
     "text": [
      "('http://www.cs.utah.edu/~piyush/teaching/cs5350.html\\n', 'Clustering')\n",
      "('https://shapeofdata.wordpress.com/2013/07/16/mixture-models/\\n', 'Clustering')\n",
      "('http://scikit-learn.org/stable/modules/mixture.html\\n', 'Clustering')\n",
      "('https://en.wikipedia.org/wiki/Mixture_models\\n', 'Clustering')\n",
      "('https://en.wikipedia.org/wiki/MLPACK_(C%2B%2B_library)\\n', 'Clustering')\n",
      "('https://ocw.mit.edu/courses/electrical-engineering-and-computer-science/6-867-machine-learning-fall-2006/readings\\n', 'Clustering')\n",
      "('https://msdn.microsoft.com/en-us/library/azure/dn905944.aspx', 'Clustering')\n",
      "('https://ocw.mit.edu/courses/electrical-engineering-and-computer-science/6-867-machine-learning-fall-2006/lecture-notes\\n', 'Clustering')\n",
      "('https://stats.stackexchange.com/q/232500\\n', 'Clustering')\n",
      "('http://www.powershow.com/view/21510b-MDU0M/EM_Algorithm_and_Mixture_of_Gaussians_powerpoint_ppt_presentation\\n', 'Clustering')\n",
      "('https://stats.stackexchange.com/questions/198239/k-means-clustering-minimizes-conditional-variance\\n', 'Clustering')\n",
      "('https://edurev.in/studytube/A-GenerativeDiscriminative-Learning-Algorithm-for-Image-Classification-Research-Paper/80593ef0-e079-4f45-861b-843c9bb46fcf_p\\n', 'Clustering')\n",
      "('https://www.edureka.co/blog/k-means-clustering-algorithm/\\n', 'Clustering')\n",
      "('https://en.wikipedia.org/wiki/Adaptive_resonance_theory\\n', 'Clustering')\n",
      "('https://stats.stackexchange.com/q/63320\\n', 'Clustering')\n"
     ]
    }
   ],
   "source": [
    "key_doc = {}\n",
    "\n",
    "for each_document in content.keys():\n",
    "    sig_score = 0\n",
    "    for each_concept in kg_labels:\n",
    "        s = get_significance_score(each_concept, each_document)\n",
    "        if(s > sig_score):\n",
    "            sig_score = s\n",
    "            \n",
    "            key_doc[each_document] = each_concept\n",
    "\n",
    "for key, val in key_doc.items():\n",
    "    if(val != None):\n",
    "        print(key, val)"
   ]
  },
  {
   "cell_type": "code",
   "execution_count": 190,
   "metadata": {
    "collapsed": false
   },
   "outputs": [
    {
     "name": "stdout",
     "output_type": "stream",
     "text": [
      "K-means clustering\n",
      "Computer Science\n",
      "Clustering\n",
      "Processes\n",
      "K-Means\n",
      "Machine Learning\n",
      "Operating Systems\n"
     ]
    }
   ],
   "source": [
    "a = \"https://stats.stackexchange.com/questions/198239/k-means-clustering-minimizes-conditional-variance\"\n",
    "c = requests.get(a).content.lower()\n",
    "for w in kg_labels:\n",
    "    if(w.lower() in c):\n",
    "        print(w)"
   ]
  },
  {
   "cell_type": "code",
   "execution_count": 219,
   "metadata": {
    "collapsed": false
   },
   "outputs": [
    {
     "data": {
      "text/plain": [
       "['http://www.powershow.com/view/21510b-MDU0M/EM_Algorithm_and_Mixture_of_Gaussians_powerpoint_ppt_presentation\\n']"
      ]
     },
     "execution_count": 219,
     "metadata": {},
     "output_type": "execute_result"
    }
   ],
   "source": [
    "content.keys()"
   ]
  },
  {
   "cell_type": "code",
   "execution_count": null,
   "metadata": {
    "collapsed": false
   },
   "outputs": [],
   "source": []
  },
  {
   "cell_type": "code",
   "execution_count": null,
   "metadata": {
    "collapsed": true
   },
   "outputs": [],
   "source": []
  }
 ],
 "metadata": {
  "kernelspec": {
   "display_name": "Python 2",
   "language": "python",
   "name": "python2"
  },
  "language_info": {
   "codemirror_mode": {
    "name": "ipython",
    "version": 2
   },
   "file_extension": ".py",
   "mimetype": "text/x-python",
   "name": "python",
   "nbconvert_exporter": "python",
   "pygments_lexer": "ipython2",
   "version": "2.7.10"
  }
 },
 "nbformat": 4,
 "nbformat_minor": 2
}
