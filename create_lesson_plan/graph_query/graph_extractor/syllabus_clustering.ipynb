{
 "cells": [
  {
   "cell_type": "code",
   "execution_count": 5,
   "metadata": {
    "collapsed": true
   },
   "outputs": [],
   "source": [
    "import pdfquery\n",
    "import numpy as np"
   ]
  },
  {
   "cell_type": "code",
   "execution_count": 21,
   "metadata": {
    "collapsed": true
   },
   "outputs": [],
   "source": [
    "def is_number(s):\n",
    "    s = s.strip()\n",
    "    try:\n",
    "        float(s)\n",
    "        return True\n",
    "    except ValueError:\n",
    "        return False"
   ]
  },
  {
   "cell_type": "code",
   "execution_count": 64,
   "metadata": {
    "collapsed": false
   },
   "outputs": [],
   "source": [
    "# pdf = pdfquery.PDFQuery(\"/Users/rishabh/Desktop/algorithms_clrs.pdf\")\n",
    "# pdf = pdfquery.PDFQuery(\"/Users/rishabh/Dropbox/DifferentialEquations/ordinary_differential_equations.pdf\")\n",
    "pdf = pdfquery.PDFQuery(\"/Users/rishabh/Desktop/algebra_judson.pdf\")\n",
    "pdf.load(9)"
   ]
  },
  {
   "cell_type": "code",
   "execution_count": 82,
   "metadata": {
    "collapsed": false
   },
   "outputs": [
    {
     "name": "stdout",
     "output_type": "stream",
     "text": [
      "(cid:116) \n",
      "(cid:42)(cid:80)(cid:76)(cid:104)(cid:49)(cid:76)(cid:104)(cid:97) \n",
      "(cid:101) (cid:42)(cid:81)(cid:98)(cid:50)(cid:105)(cid:98) (cid:28)(cid:77)(cid:47) (cid:71)(cid:28)(cid:59)(cid:96)(cid:28)(cid:77)(cid:59)(cid:50)(cid:502)(cid:98) (cid:104)(cid:63)(cid:50)(cid:81)(cid:96)(cid:50)(cid:75) \n",
      "(cid:101)(cid:88)(cid:82) (cid:42)(cid:81)(cid:98)(cid:50)(cid:105)(cid:98) (cid:88) (cid:88) (cid:88) (cid:88) (cid:88) (cid:88) (cid:88) (cid:88) (cid:88) (cid:88) (cid:88) (cid:88) (cid:88) (cid:88) (cid:88) (cid:88) (cid:88) (cid:88) (cid:88) (cid:88) (cid:88) (cid:88) (cid:88) (cid:88) (cid:88) (cid:88) (cid:88) (cid:88) (cid:88) (cid:88) (cid:88) (cid:88) (cid:88) (cid:88) (cid:88) (cid:88) (cid:88) (cid:88) (cid:88) \n",
      "(cid:101)(cid:88)(cid:107) (cid:71)(cid:28)(cid:59)(cid:96)(cid:28)(cid:77)(cid:59)(cid:50)(cid:502)(cid:98) (cid:104)(cid:63)(cid:50)(cid:81)(cid:96)(cid:50)(cid:75) (cid:88) (cid:88) (cid:88) (cid:88) (cid:88) (cid:88) (cid:88) (cid:88) (cid:88) (cid:88) (cid:88) (cid:88) (cid:88) (cid:88) (cid:88) (cid:88) (cid:88) (cid:88) (cid:88) (cid:88) (cid:88) (cid:88) (cid:88) (cid:88) (cid:88) (cid:88) (cid:88) (cid:88) (cid:88) (cid:88) (cid:88) \n",
      "(cid:101)(cid:88)(cid:106) (cid:54)(cid:50)(cid:96)(cid:75)(cid:28)(cid:105)(cid:502)(cid:98) (cid:28)(cid:77)(cid:47) (cid:49)(cid:109)(cid:72)(cid:50)(cid:96)(cid:502)(cid:98) (cid:104)(cid:63)(cid:50)(cid:81)(cid:96)(cid:50)(cid:75)(cid:98) (cid:88) (cid:88) (cid:88) (cid:88) (cid:88) (cid:88) (cid:88) (cid:88) (cid:88) (cid:88) (cid:88) (cid:88) (cid:88) (cid:88) (cid:88) (cid:88) (cid:88) (cid:88) (cid:88) (cid:88) (cid:88) (cid:88) (cid:88) (cid:88) (cid:88) \n",
      "(cid:101)(cid:88)(cid:57) (cid:49)(cid:116)(cid:50)(cid:96)(cid:43)(cid:66)(cid:98)(cid:50)(cid:98) \n",
      "(cid:88) (cid:88) (cid:88) (cid:88) (cid:88) (cid:88) (cid:88) (cid:88) (cid:88) (cid:88) (cid:88) (cid:88) (cid:88) (cid:88) (cid:88) (cid:88) (cid:88) (cid:88) (cid:88) (cid:88) (cid:88) (cid:88) (cid:88) (cid:88) (cid:88) (cid:88) (cid:88) (cid:88) (cid:88) (cid:88) (cid:88) (cid:88) (cid:88) (cid:88) (cid:88) (cid:88) (cid:88) \n",
      "None\n",
      "(cid:100) (cid:65)(cid:77)(cid:105)(cid:96)(cid:81)(cid:47)(cid:109)(cid:43)(cid:105)(cid:66)(cid:81)(cid:77) (cid:105)(cid:81) (cid:42)(cid:96)(cid:118)(cid:84)(cid:105)(cid:81)(cid:59)(cid:96)(cid:28)(cid:84)(cid:63)(cid:118) \n",
      "(cid:100)(cid:88)(cid:82) (cid:83)(cid:96)(cid:66)(cid:112)(cid:28)(cid:105)(cid:50) (cid:69)(cid:50)(cid:118) (cid:42)(cid:96)(cid:118)(cid:84)(cid:105)(cid:81)(cid:59)(cid:96)(cid:28)(cid:84)(cid:63)(cid:118) (cid:88) (cid:88) (cid:88) (cid:88) (cid:88) (cid:88) (cid:88) (cid:88) (cid:88) (cid:88) (cid:88) (cid:88) (cid:88) (cid:88) (cid:88) (cid:88) (cid:88) (cid:88) (cid:88) (cid:88) (cid:88) (cid:88) (cid:88) (cid:88) (cid:88) (cid:88) (cid:88) (cid:88) \n",
      "(cid:100)(cid:88)(cid:107) (cid:83)(cid:109)(cid:35)(cid:72)(cid:66)(cid:43) (cid:69)(cid:50)(cid:118) (cid:42)(cid:96)(cid:118)(cid:84)(cid:105)(cid:81)(cid:59)(cid:96)(cid:28)(cid:84)(cid:63)(cid:118) (cid:88) (cid:88) (cid:88) (cid:88) (cid:88) (cid:88) (cid:88) (cid:88) (cid:88) (cid:88) (cid:88) (cid:88) (cid:88) (cid:88) (cid:88) (cid:88) (cid:88) (cid:88) (cid:88) (cid:88) (cid:88) (cid:88) (cid:88) (cid:88) (cid:88) (cid:88) (cid:88) (cid:88) \n",
      "(cid:100)(cid:88)(cid:106) (cid:49)(cid:116)(cid:50)(cid:96)(cid:43)(cid:66)(cid:98)(cid:50)(cid:98) \n",
      "(cid:88) (cid:88) (cid:88) (cid:88) (cid:88) (cid:88) (cid:88) (cid:88) (cid:88) (cid:88) (cid:88) (cid:88) (cid:88) (cid:88) (cid:88) (cid:88) (cid:88) (cid:88) (cid:88) (cid:88) (cid:88) (cid:88) (cid:88) (cid:88) (cid:88) (cid:88) (cid:88) (cid:88) (cid:88) (cid:88) (cid:88) (cid:88) (cid:88) (cid:88) (cid:88) (cid:88) (cid:88) \n",
      "(cid:100)(cid:88)(cid:57) (cid:27)(cid:47)(cid:47)(cid:66)(cid:105)(cid:66)(cid:81)(cid:77)(cid:28)(cid:72) (cid:49)(cid:116)(cid:50)(cid:96)(cid:43)(cid:66)(cid:98)(cid:50)(cid:98)(cid:44) (cid:83)(cid:96)(cid:66)(cid:75)(cid:28)(cid:72)(cid:66)(cid:105)(cid:118) (cid:28)(cid:77)(cid:47) (cid:54)(cid:28)(cid:43)(cid:105)(cid:81)(cid:96)(cid:66)(cid:77)(cid:59) (cid:88) (cid:88) (cid:88) (cid:88) (cid:88) (cid:88) (cid:88) (cid:88) (cid:88) (cid:88) (cid:88) (cid:88) (cid:88) (cid:88) (cid:88) (cid:88) (cid:88) \n",
      "(cid:100)(cid:88)(cid:56) (cid:95)(cid:50)(cid:55)(cid:50)(cid:96)(cid:50)(cid:77)(cid:43)(cid:50)(cid:98) (cid:28)(cid:77)(cid:47) (cid:97)(cid:109)(cid:59)(cid:59)(cid:50)(cid:98)(cid:105)(cid:50)(cid:47) (cid:95)(cid:50)(cid:28)(cid:47)(cid:66)(cid:77)(cid:59)(cid:98) (cid:88) (cid:88) (cid:88) (cid:88) (cid:88) (cid:88) (cid:88) (cid:88) (cid:88) (cid:88) (cid:88) (cid:88) (cid:88) (cid:88) (cid:88) (cid:88) (cid:88) (cid:88) (cid:88) (cid:88) (cid:88) (cid:88) (cid:88) \n",
      "None\n",
      "(cid:51) (cid:27)(cid:72)(cid:59)(cid:50)(cid:35)(cid:96)(cid:28)(cid:66)(cid:43) (cid:42)(cid:81)(cid:47)(cid:66)(cid:77)(cid:59) (cid:104)(cid:63)(cid:50)(cid:81)(cid:96)(cid:118) \n",
      "(cid:51)(cid:88)(cid:82) (cid:49)(cid:96)(cid:96)(cid:81)(cid:96)(cid:64)(cid:46)(cid:50)(cid:105)(cid:50)(cid:43)(cid:105)(cid:66)(cid:77)(cid:59) (cid:28)(cid:77)(cid:47) (cid:42)(cid:81)(cid:96)(cid:96)(cid:50)(cid:43)(cid:105)(cid:66)(cid:77)(cid:59) (cid:42)(cid:81)(cid:47)(cid:50)(cid:98) (cid:88) (cid:88) (cid:88) (cid:88) (cid:88) (cid:88) (cid:88) (cid:88) (cid:88) (cid:88) (cid:88) (cid:88) (cid:88) (cid:88) (cid:88) (cid:88) (cid:88) (cid:88) (cid:88) (cid:88) (cid:88) \n",
      "(cid:51)(cid:88)(cid:107) (cid:71)(cid:66)(cid:77)(cid:50)(cid:28)(cid:96) (cid:42)(cid:81)(cid:47)(cid:50)(cid:98) \n",
      "(cid:88) (cid:88) (cid:88) (cid:88) (cid:88) (cid:88) (cid:88) (cid:88) (cid:88) (cid:88) (cid:88) (cid:88) (cid:88) (cid:88) (cid:88) (cid:88) (cid:88) (cid:88) (cid:88) (cid:88) (cid:88) (cid:88) (cid:88) (cid:88) (cid:88) (cid:88) (cid:88) (cid:88) (cid:88) (cid:88) (cid:88) (cid:88) (cid:88) (cid:88) (cid:88) \n",
      "(cid:51)(cid:88)(cid:106) (cid:83)(cid:28)(cid:96)(cid:66)(cid:105)(cid:118)(cid:64)(cid:42)(cid:63)(cid:50)(cid:43)(cid:70) (cid:28)(cid:77)(cid:47) (cid:58)(cid:50)(cid:77)(cid:50)(cid:96)(cid:28)(cid:105)(cid:81)(cid:96) (cid:74)(cid:28)(cid:105)(cid:96)(cid:66)(cid:43)(cid:50)(cid:98) \n",
      "(cid:88) (cid:88) (cid:88) (cid:88) (cid:88) (cid:88) (cid:88) (cid:88) (cid:88) (cid:88) (cid:88) (cid:88) (cid:88) (cid:88) (cid:88) (cid:88) (cid:88) (cid:88) (cid:88) (cid:88) (cid:88) \n",
      "(cid:51)(cid:88)(cid:57) (cid:49)(cid:123)(cid:43)(cid:66)(cid:50)(cid:77)(cid:105) (cid:46)(cid:50)(cid:43)(cid:81)(cid:47)(cid:66)(cid:77)(cid:59) (cid:88) (cid:88) (cid:88) (cid:88) (cid:88) (cid:88) (cid:88) (cid:88) (cid:88) (cid:88) (cid:88) (cid:88) (cid:88) (cid:88) (cid:88) (cid:88) (cid:88) (cid:88) (cid:88) (cid:88) (cid:88) (cid:88) (cid:88) (cid:88) (cid:88) (cid:88) (cid:88) (cid:88) (cid:88) (cid:88) (cid:88) (cid:88) \n",
      "(cid:88) (cid:88) (cid:88) (cid:88) (cid:88) (cid:88) (cid:88) (cid:88) (cid:88) (cid:88) (cid:88) (cid:88) (cid:88) (cid:88) (cid:88) (cid:88) (cid:88) (cid:88) (cid:88) (cid:88) (cid:88) (cid:88) (cid:88) (cid:88) (cid:88) (cid:88) (cid:88) (cid:88) (cid:88) (cid:88) (cid:88) (cid:88) (cid:88) (cid:88) (cid:88) (cid:88) (cid:88) \n",
      "(cid:51)(cid:88)(cid:56) (cid:49)(cid:116)(cid:50)(cid:96)(cid:43)(cid:66)(cid:98)(cid:50)(cid:98) \n",
      "(cid:51)(cid:88)(cid:101) (cid:83)(cid:96)(cid:81)(cid:59)(cid:96)(cid:28)(cid:75)(cid:75)(cid:66)(cid:77)(cid:59) (cid:49)(cid:116)(cid:50)(cid:96)(cid:43)(cid:66)(cid:98)(cid:50)(cid:98) \n",
      "(cid:88) (cid:88) (cid:88) (cid:88) (cid:88) (cid:88) (cid:88) (cid:88) (cid:88) (cid:88) (cid:88) (cid:88) (cid:88) (cid:88) (cid:88) (cid:88) (cid:88) (cid:88) (cid:88) (cid:88) (cid:88) (cid:88) (cid:88) (cid:88) (cid:88) (cid:88) (cid:88) (cid:88) (cid:88) \n",
      "(cid:51)(cid:88)(cid:100) (cid:95)(cid:50)(cid:55)(cid:50)(cid:96)(cid:50)(cid:77)(cid:43)(cid:50)(cid:98) (cid:28)(cid:77)(cid:47) (cid:97)(cid:109)(cid:59)(cid:59)(cid:50)(cid:98)(cid:105)(cid:50)(cid:47) (cid:95)(cid:50)(cid:28)(cid:47)(cid:66)(cid:77)(cid:59)(cid:98) (cid:88) (cid:88) (cid:88) (cid:88) (cid:88) (cid:88) (cid:88) (cid:88) (cid:88) (cid:88) (cid:88) (cid:88) (cid:88) (cid:88) (cid:88) (cid:88) (cid:88) (cid:88) (cid:88) (cid:88) (cid:88) (cid:88) (cid:88) \n",
      "None\n",
      "None\n",
      "None\n",
      "None\n",
      "(cid:78) (cid:65)(cid:98)(cid:81)(cid:75)(cid:81)(cid:96)(cid:84)(cid:63)(cid:66)(cid:98)(cid:75)(cid:98) \n",
      "(cid:78)(cid:88)(cid:82) (cid:46)(cid:50)(cid:125)(cid:77)(cid:66)(cid:105)(cid:66)(cid:81)(cid:77) (cid:28)(cid:77)(cid:47) (cid:49)(cid:116)(cid:28)(cid:75)(cid:84)(cid:72)(cid:50)(cid:98) (cid:88) (cid:88) (cid:88) (cid:88) (cid:88) (cid:88) (cid:88) (cid:88) (cid:88) (cid:88) (cid:88) (cid:88) (cid:88) (cid:88) (cid:88) (cid:88) (cid:88) (cid:88) (cid:88) (cid:88) (cid:88) (cid:88) (cid:88) (cid:88) (cid:88) (cid:88) (cid:88) (cid:88) (cid:88) \n",
      "(cid:78)(cid:88)(cid:107) (cid:46)(cid:66)(cid:96)(cid:50)(cid:43)(cid:105) (cid:83)(cid:96)(cid:81)(cid:47)(cid:109)(cid:43)(cid:105)(cid:98) (cid:88) (cid:88) (cid:88) (cid:88) (cid:88) (cid:88) (cid:88) (cid:88) (cid:88) (cid:88) (cid:88) (cid:88) (cid:88) (cid:88) (cid:88) (cid:88) (cid:88) (cid:88) (cid:88) (cid:88) (cid:88) (cid:88) (cid:88) (cid:88) (cid:88) (cid:88) (cid:88) (cid:88) (cid:88) (cid:88) (cid:88) (cid:88) (cid:88) (cid:88) \n",
      "(cid:78)(cid:88)(cid:106) (cid:49)(cid:116)(cid:50)(cid:96)(cid:43)(cid:66)(cid:98)(cid:50)(cid:98) \n",
      "(cid:88) (cid:88) (cid:88) (cid:88) (cid:88) (cid:88) (cid:88) (cid:88) (cid:88) (cid:88) (cid:88) (cid:88) (cid:88) (cid:88) (cid:88) (cid:88) (cid:88) (cid:88) (cid:88) (cid:88) (cid:88) (cid:88) (cid:88) (cid:88) (cid:88) (cid:88) (cid:88) (cid:88) (cid:88) (cid:88) (cid:88) (cid:88) (cid:88) (cid:88) (cid:88) (cid:88) (cid:88) \n",
      "None\n",
      "(cid:82)(cid:121) (cid:76)(cid:81)(cid:96)(cid:75)(cid:28)(cid:72) (cid:97)(cid:109)(cid:35)(cid:59)(cid:96)(cid:81)(cid:109)(cid:84)(cid:98) (cid:28)(cid:77)(cid:47) (cid:54)(cid:28)(cid:43)(cid:105)(cid:81)(cid:96) (cid:58)(cid:96)(cid:81)(cid:109)(cid:84)(cid:98) \n",
      "(cid:82)(cid:121)(cid:88)(cid:82) (cid:54)(cid:28)(cid:43)(cid:105)(cid:81)(cid:96) (cid:58)(cid:96)(cid:81)(cid:109)(cid:84)(cid:98) (cid:28)(cid:77)(cid:47) (cid:76)(cid:81)(cid:96)(cid:75)(cid:28)(cid:72) (cid:97)(cid:109)(cid:35)(cid:59)(cid:96)(cid:81)(cid:109)(cid:84)(cid:98) (cid:88) (cid:88) (cid:88) (cid:88) (cid:88) (cid:88) (cid:88) (cid:88) (cid:88) (cid:88) (cid:88) (cid:88) (cid:88) (cid:88) (cid:88) (cid:88) (cid:88) (cid:88) (cid:88) (cid:88) (cid:88) \n",
      "(cid:82)(cid:121)(cid:88)(cid:107) (cid:104)(cid:63)(cid:50) (cid:97)(cid:66)(cid:75)(cid:84)(cid:72)(cid:66)(cid:43)(cid:66)(cid:105)(cid:118) (cid:81)(cid:55) (cid:105)(cid:63)(cid:50) (cid:27)(cid:72)(cid:105)(cid:50)(cid:96)(cid:77)(cid:28)(cid:105)(cid:66)(cid:77)(cid:59) (cid:58)(cid:96)(cid:81)(cid:109)(cid:84) (cid:88) (cid:88) (cid:88) (cid:88) (cid:88) (cid:88) (cid:88) (cid:88) (cid:88) (cid:88) (cid:88) (cid:88) (cid:88) (cid:88) (cid:88) (cid:88) (cid:88) (cid:88) (cid:88) (cid:88) \n",
      "(cid:82)(cid:121)(cid:88)(cid:106) (cid:49)(cid:116)(cid:50)(cid:96)(cid:43)(cid:66)(cid:98)(cid:50)(cid:98) \n",
      "(cid:88) (cid:88) (cid:88) (cid:88) (cid:88) (cid:88) (cid:88) (cid:88) (cid:88) (cid:88) (cid:88) (cid:88) (cid:88) (cid:88) (cid:88) (cid:88) (cid:88) (cid:88) (cid:88) (cid:88) (cid:88) (cid:88) (cid:88) (cid:88) (cid:88) (cid:88) (cid:88) (cid:88) (cid:88) (cid:88) (cid:88) (cid:88) (cid:88) (cid:88) (cid:88) (cid:88) (cid:88) \n",
      "None\n",
      "(cid:82)(cid:82) (cid:62)(cid:81)(cid:75)(cid:81)(cid:75)(cid:81)(cid:96)(cid:84)(cid:63)(cid:66)(cid:98)(cid:75)(cid:98) \n",
      "(cid:82)(cid:82)(cid:88)(cid:82) (cid:58)(cid:96)(cid:81)(cid:109)(cid:84) (cid:62)(cid:81)(cid:75)(cid:81)(cid:75)(cid:81)(cid:96)(cid:84)(cid:63)(cid:66)(cid:98)(cid:75)(cid:98) \n",
      "(cid:88) (cid:88) (cid:88) (cid:88) (cid:88) (cid:88) (cid:88) (cid:88) (cid:88) (cid:88) (cid:88) (cid:88) (cid:88) (cid:88) (cid:88) (cid:88) (cid:88) (cid:88) (cid:88) (cid:88) (cid:88) (cid:88) (cid:88) (cid:88) (cid:88) (cid:88) (cid:88) (cid:88) (cid:88) \n",
      "(cid:82)(cid:82)(cid:88)(cid:107) (cid:104)(cid:63)(cid:50) (cid:65)(cid:98)(cid:81)(cid:75)(cid:81)(cid:96)(cid:84)(cid:63)(cid:66)(cid:98)(cid:75) (cid:104)(cid:63)(cid:50)(cid:81)(cid:96)(cid:50)(cid:75)(cid:98) (cid:88) (cid:88) (cid:88) (cid:88) (cid:88) (cid:88) (cid:88) (cid:88) (cid:88) (cid:88) (cid:88) (cid:88) (cid:88) (cid:88) (cid:88) (cid:88) (cid:88) (cid:88) (cid:88) (cid:88) (cid:88) (cid:88) (cid:88) (cid:88) (cid:88) (cid:88) (cid:88) \n",
      "(cid:88) (cid:88) (cid:88) (cid:88) (cid:88) (cid:88) (cid:88) (cid:88) (cid:88) (cid:88) (cid:88) (cid:88) (cid:88) (cid:88) (cid:88) (cid:88) (cid:88) (cid:88) (cid:88) (cid:88) (cid:88) (cid:88) (cid:88) (cid:88) (cid:88) (cid:88) (cid:88) (cid:88) (cid:88) (cid:88) (cid:88) (cid:88) (cid:88) (cid:88) (cid:88) (cid:88) (cid:88) \n",
      "(cid:82)(cid:82)(cid:88)(cid:106) (cid:49)(cid:116)(cid:50)(cid:96)(cid:43)(cid:66)(cid:98)(cid:50)(cid:98) \n",
      "(cid:82)(cid:82)(cid:88)(cid:57) (cid:27)(cid:47)(cid:47)(cid:66)(cid:105)(cid:66)(cid:81)(cid:77)(cid:28)(cid:72) (cid:49)(cid:116)(cid:50)(cid:96)(cid:43)(cid:66)(cid:98)(cid:50)(cid:98)(cid:44) (cid:27)(cid:109)(cid:105)(cid:81)(cid:75)(cid:81)(cid:96)(cid:84)(cid:63)(cid:66)(cid:98)(cid:75)(cid:98) \n",
      "(cid:88) (cid:88) (cid:88) (cid:88) (cid:88) (cid:88) (cid:88) (cid:88) (cid:88) (cid:88) (cid:88) (cid:88) (cid:88) (cid:88) (cid:88) (cid:88) (cid:88) (cid:88) (cid:88) (cid:88) (cid:88) \n",
      "None\n",
      "None\n",
      "(cid:82)(cid:107) (cid:74)(cid:28)(cid:105)(cid:96)(cid:66)(cid:116) (cid:58)(cid:96)(cid:81)(cid:109)(cid:84)(cid:98) (cid:28)(cid:77)(cid:47) (cid:97)(cid:118)(cid:75)(cid:75)(cid:50)(cid:105)(cid:96)(cid:118) \n",
      "(cid:82)(cid:107)(cid:88)(cid:82) (cid:74)(cid:28)(cid:105)(cid:96)(cid:66)(cid:116) (cid:58)(cid:96)(cid:81)(cid:109)(cid:84)(cid:98) \n",
      "(cid:88) (cid:88) (cid:88) (cid:88) (cid:88) (cid:88) (cid:88) (cid:88) (cid:88) (cid:88) (cid:88) (cid:88) (cid:88) (cid:88) (cid:88) (cid:88) (cid:88) (cid:88) (cid:88) (cid:88) (cid:88) (cid:88) (cid:88) (cid:88) (cid:88) (cid:88) (cid:88) (cid:88) (cid:88) (cid:88) (cid:88) (cid:88) (cid:88) (cid:88) \n",
      "(cid:82)(cid:107)(cid:88)(cid:107) (cid:97)(cid:118)(cid:75)(cid:75)(cid:50)(cid:105)(cid:96)(cid:118) (cid:88) (cid:88) (cid:88) (cid:88) (cid:88) (cid:88) (cid:88) (cid:88) (cid:88) (cid:88) (cid:88) (cid:88) (cid:88) (cid:88) (cid:88) (cid:88) (cid:88) (cid:88) (cid:88) (cid:88) (cid:88) (cid:88) (cid:88) (cid:88) (cid:88) (cid:88) (cid:88) (cid:88) (cid:88) (cid:88) (cid:88) (cid:88) (cid:88) (cid:88) (cid:88) (cid:88) (cid:88) \n",
      "(cid:82)(cid:107)(cid:88)(cid:106) (cid:49)(cid:116)(cid:50)(cid:96)(cid:43)(cid:66)(cid:98)(cid:50)(cid:98) \n",
      "(cid:88) (cid:88) (cid:88) (cid:88) (cid:88) (cid:88) (cid:88) (cid:88) (cid:88) (cid:88) (cid:88) (cid:88) (cid:88) (cid:88) (cid:88) (cid:88) (cid:88) (cid:88) (cid:88) (cid:88) (cid:88) (cid:88) (cid:88) (cid:88) (cid:88) (cid:88) (cid:88) (cid:88) (cid:88) (cid:88) (cid:88) (cid:88) (cid:88) (cid:88) (cid:88) (cid:88) (cid:88) \n",
      "(cid:82)(cid:107)(cid:88)(cid:57) (cid:95)(cid:50)(cid:55)(cid:50)(cid:96)(cid:50)(cid:77)(cid:43)(cid:50)(cid:98) (cid:28)(cid:77)(cid:47) (cid:97)(cid:109)(cid:59)(cid:59)(cid:50)(cid:98)(cid:105)(cid:50)(cid:47) (cid:95)(cid:50)(cid:28)(cid:47)(cid:66)(cid:77)(cid:59)(cid:98) (cid:88) (cid:88) (cid:88) (cid:88) (cid:88) (cid:88) (cid:88) (cid:88) (cid:88) (cid:88) (cid:88) (cid:88) (cid:88) (cid:88) (cid:88) (cid:88) (cid:88) (cid:88) (cid:88) (cid:88) (cid:88) (cid:88) (cid:88) \n",
      "None\n",
      "None\n",
      "(cid:82)(cid:106) (cid:104)(cid:63)(cid:50) (cid:97)(cid:105)(cid:96)(cid:109)(cid:43)(cid:105)(cid:109)(cid:96)(cid:50) (cid:81)(cid:55) (cid:58)(cid:96)(cid:81)(cid:109)(cid:84)(cid:98) \n",
      "(cid:82)(cid:106)(cid:88)(cid:82) (cid:54)(cid:66)(cid:77)(cid:66)(cid:105)(cid:50) (cid:27)(cid:35)(cid:50)(cid:72)(cid:66)(cid:28)(cid:77) (cid:58)(cid:96)(cid:81)(cid:109)(cid:84)(cid:98) (cid:88) (cid:88) (cid:88) (cid:88) (cid:88) (cid:88) (cid:88) (cid:88) (cid:88) (cid:88) (cid:88) (cid:88) (cid:88) (cid:88) (cid:88) (cid:88) (cid:88) (cid:88) (cid:88) (cid:88) (cid:88) (cid:88) (cid:88) (cid:88) (cid:88) (cid:88) (cid:88) (cid:88) (cid:88) (cid:88) \n",
      "(cid:82)(cid:106)(cid:88)(cid:107) (cid:97)(cid:81)(cid:72)(cid:112)(cid:28)(cid:35)(cid:72)(cid:50) (cid:58)(cid:96)(cid:81)(cid:109)(cid:84)(cid:98) \n",
      "(cid:88) (cid:88) (cid:88) (cid:88) (cid:88) (cid:88) (cid:88) (cid:88) (cid:88) (cid:88) (cid:88) (cid:88) (cid:88) (cid:88) (cid:88) (cid:88) (cid:88) (cid:88) (cid:88) (cid:88) (cid:88) (cid:88) (cid:88) (cid:88) (cid:88) (cid:88) (cid:88) (cid:88) (cid:88) (cid:88) (cid:88) (cid:88) (cid:88) \n",
      "(cid:88) (cid:88) (cid:88) (cid:88) (cid:88) (cid:88) (cid:88) (cid:88) (cid:88) (cid:88) (cid:88) (cid:88) (cid:88) (cid:88) (cid:88) (cid:88) (cid:88) (cid:88) (cid:88) (cid:88) (cid:88) (cid:88) (cid:88) (cid:88) (cid:88) (cid:88) (cid:88) (cid:88) (cid:88) (cid:88) (cid:88) (cid:88) (cid:88) (cid:88) (cid:88) (cid:88) (cid:88) \n",
      "(cid:82)(cid:106)(cid:88)(cid:106) (cid:49)(cid:116)(cid:50)(cid:96)(cid:43)(cid:66)(cid:98)(cid:50)(cid:98) \n",
      "(cid:82)(cid:106)(cid:88)(cid:57) (cid:83)(cid:96)(cid:81)(cid:59)(cid:96)(cid:28)(cid:75)(cid:75)(cid:66)(cid:77)(cid:59) (cid:49)(cid:116)(cid:50)(cid:96)(cid:43)(cid:66)(cid:98)(cid:50)(cid:98) \n",
      "(cid:88) (cid:88) (cid:88) (cid:88) (cid:88) (cid:88) (cid:88) (cid:88) (cid:88) (cid:88) (cid:88) (cid:88) (cid:88) (cid:88) (cid:88) (cid:88) (cid:88) (cid:88) (cid:88) (cid:88) (cid:88) (cid:88) (cid:88) (cid:88) (cid:88) (cid:88) (cid:88) (cid:88) (cid:88) \n",
      "(cid:82)(cid:106)(cid:88)(cid:56) (cid:95)(cid:50)(cid:55)(cid:50)(cid:96)(cid:50)(cid:77)(cid:43)(cid:50)(cid:98) (cid:28)(cid:77)(cid:47) (cid:97)(cid:109)(cid:59)(cid:59)(cid:50)(cid:98)(cid:105)(cid:50)(cid:47) (cid:95)(cid:50)(cid:28)(cid:47)(cid:66)(cid:77)(cid:59)(cid:98) (cid:88) (cid:88) (cid:88) (cid:88) (cid:88) (cid:88) (cid:88) (cid:88) (cid:88) (cid:88) (cid:88) (cid:88) (cid:88) (cid:88) (cid:88) (cid:88) (cid:88) (cid:88) (cid:88) (cid:88) (cid:88) (cid:88) (cid:88) \n",
      "None\n",
      "None\n",
      "None\n",
      "(cid:100)(cid:121) \n",
      "(cid:100)(cid:121) \n",
      "(cid:100)(cid:107) \n",
      "(cid:100)(cid:106) \n",
      "(cid:100)(cid:57) \n",
      "(cid:100)(cid:101) \n",
      "(cid:100)(cid:101) \n",
      "(cid:100)(cid:51) \n",
      "(cid:51)(cid:82) \n",
      "(cid:51)(cid:106) \n",
      "(cid:51)(cid:57) \n",
      "(cid:51)(cid:56) \n",
      "(cid:51)(cid:56) \n",
      "(cid:78)(cid:82) \n",
      "(cid:78)(cid:57) \n",
      "(cid:78)(cid:78) \n",
      "(cid:82)(cid:121)(cid:107) \n",
      "(cid:82)(cid:121)(cid:101) \n",
      "(cid:82)(cid:121)(cid:101) \n",
      "(cid:82)(cid:121)(cid:100) \n",
      "(cid:82)(cid:121)(cid:100) \n",
      "(cid:82)(cid:82)(cid:82) \n",
      "(cid:82)(cid:82)(cid:57) \n",
      "(cid:82)(cid:82)(cid:51) \n",
      "(cid:82)(cid:82)(cid:51) \n",
      "(cid:82)(cid:107)(cid:121) \n",
      "(cid:82)(cid:107)(cid:106) \n",
      "(cid:82)(cid:107)(cid:56) \n",
      "(cid:82)(cid:107)(cid:56) \n",
      "(cid:82)(cid:107)(cid:100) \n",
      "(cid:82)(cid:106)(cid:121) \n",
      "(cid:82)(cid:106)(cid:82) \n",
      "(cid:82)(cid:106)(cid:106) \n",
      "(cid:82)(cid:106)(cid:106) \n",
      "(cid:82)(cid:106)(cid:78) \n",
      "(cid:82)(cid:57)(cid:56) \n",
      "(cid:82)(cid:57)(cid:100) \n",
      "(cid:82)(cid:57)(cid:78) \n",
      "(cid:82)(cid:57)(cid:78) \n",
      "(cid:82)(cid:56)(cid:106) \n",
      "(cid:82)(cid:56)(cid:101) \n",
      "(cid:82)(cid:56)(cid:100) \n",
      "(cid:82)(cid:56)(cid:51) \n"
     ]
    }
   ],
   "source": [
    "tree = pdf.tree\n",
    "root = tree.getroot()\n",
    "\n",
    "children = []\n",
    "# print(root.getchildren()[0].getchildren())\n",
    "for child in root.getchildren():\n",
    "    for grand_child in child.getchildren():\n",
    "        for great_grand_child in grand_child.getchildren():\n",
    "            print(great_grand_child.text)\n",
    "            if(great_grand_child.text != None \n",
    "               and len(great_grand_child.text) > 1\n",
    "              and not is_number(great_grand_child.text)):\n",
    "                children.append(great_grand_child)\n",
    "\n",
    "children.sort(key=lambda x: x.attrib['height'], reverse=True)"
   ]
  },
  {
   "cell_type": "code",
   "execution_count": 68,
   "metadata": {
    "collapsed": false
   },
   "outputs": [],
   "source": [
    "a = []\n",
    "for each in children: \n",
    "    text = each.text.strip().split(\" \")\n",
    "    if(is_number(text[0])):\n",
    "        print(text[0], \" \".join(text[1:]))  \n",
    "        a.append([float(text[0])])"
   ]
  },
  {
   "cell_type": "code",
   "execution_count": 43,
   "metadata": {
    "collapsed": false,
    "deletable": true,
    "editable": true
   },
   "outputs": [
    {
     "name": "stderr",
     "output_type": "stream",
     "text": [
      "/Users/rishabh/.virtualenvs/ml/lib/python2.7/site-packages/sklearn/utils/validation.py:386: DeprecationWarning: Passing 1d arrays as data is deprecated in 0.17 and willraise ValueError in 0.19. Reshape your data either using X.reshape(-1, 1) if your data has a single feature or X.reshape(1, -1) if it contains a single sample.\n",
      "  DeprecationWarning)\n"
     ]
    },
    {
     "ename": "ValueError",
     "evalue": "Found array with 0 feature(s) (shape=(1, 0)) while a minimum of 1 is required.",
     "output_type": "error",
     "traceback": [
      "\u001b[0;31m------------\u001b[0m",
      "\u001b[0;31mValueError\u001b[0mTraceback (most recent call last)",
      "\u001b[0;32m<ipython-input-43-9d24f6b48149>\u001b[0m in \u001b[0;36m<module>\u001b[0;34m()\u001b[0m\n\u001b[1;32m      7\u001b[0m \u001b[0;34m\u001b[0m\u001b[0m\n\u001b[1;32m      8\u001b[0m \u001b[0;32mfrom\u001b[0m \u001b[0msklearn\u001b[0m\u001b[0;34m.\u001b[0m\u001b[0mcluster\u001b[0m \u001b[0;32mimport\u001b[0m \u001b[0mKMeans\u001b[0m\u001b[0;34m\u001b[0m\u001b[0m\n\u001b[0;32m----> 9\u001b[0;31m \u001b[0mkmeans\u001b[0m \u001b[0;34m=\u001b[0m \u001b[0mKMeans\u001b[0m\u001b[0;34m(\u001b[0m\u001b[0mn_clusters\u001b[0m\u001b[0;34m=\u001b[0m\u001b[0;36m6\u001b[0m\u001b[0;34m,\u001b[0m \u001b[0mrandom_state\u001b[0m\u001b[0;34m=\u001b[0m\u001b[0;36m0\u001b[0m\u001b[0;34m)\u001b[0m\u001b[0;34m.\u001b[0m\u001b[0mfit\u001b[0m\u001b[0;34m(\u001b[0m\u001b[0mX\u001b[0m\u001b[0;34m)\u001b[0m\u001b[0;34m\u001b[0m\u001b[0m\n\u001b[0m\u001b[1;32m     10\u001b[0m \u001b[0;32mfor\u001b[0m \u001b[0meach\u001b[0m \u001b[0;32min\u001b[0m \u001b[0mX\u001b[0m\u001b[0;34m:\u001b[0m\u001b[0;34m\u001b[0m\u001b[0m\n\u001b[1;32m     11\u001b[0m         \u001b[0meach\u001b[0m \u001b[0;34m=\u001b[0m \u001b[0meach\u001b[0m\u001b[0;34m.\u001b[0m\u001b[0mreshape\u001b[0m\u001b[0;34m(\u001b[0m\u001b[0;36m1\u001b[0m\u001b[0;34m,\u001b[0m \u001b[0;36m1\u001b[0m\u001b[0;34m)\u001b[0m\u001b[0;34m\u001b[0m\u001b[0m\n",
      "\u001b[0;32m/Users/rishabh/.virtualenvs/ml/lib/python2.7/site-packages/sklearn/cluster/k_means_.pyc\u001b[0m in \u001b[0;36mfit\u001b[0;34m(self, X, y)\u001b[0m\n\u001b[1;32m    810\u001b[0m         \"\"\"\n\u001b[1;32m    811\u001b[0m         \u001b[0mrandom_state\u001b[0m \u001b[0;34m=\u001b[0m \u001b[0mcheck_random_state\u001b[0m\u001b[0;34m(\u001b[0m\u001b[0mself\u001b[0m\u001b[0;34m.\u001b[0m\u001b[0mrandom_state\u001b[0m\u001b[0;34m)\u001b[0m\u001b[0;34m\u001b[0m\u001b[0m\n\u001b[0;32m--> 812\u001b[0;31m         \u001b[0mX\u001b[0m \u001b[0;34m=\u001b[0m \u001b[0mself\u001b[0m\u001b[0;34m.\u001b[0m\u001b[0m_check_fit_data\u001b[0m\u001b[0;34m(\u001b[0m\u001b[0mX\u001b[0m\u001b[0;34m)\u001b[0m\u001b[0;34m\u001b[0m\u001b[0m\n\u001b[0m\u001b[1;32m    813\u001b[0m \u001b[0;34m\u001b[0m\u001b[0m\n\u001b[1;32m    814\u001b[0m         \u001b[0mself\u001b[0m\u001b[0;34m.\u001b[0m\u001b[0mcluster_centers_\u001b[0m\u001b[0;34m,\u001b[0m \u001b[0mself\u001b[0m\u001b[0;34m.\u001b[0m\u001b[0mlabels_\u001b[0m\u001b[0;34m,\u001b[0m \u001b[0mself\u001b[0m\u001b[0;34m.\u001b[0m\u001b[0minertia_\u001b[0m\u001b[0;34m,\u001b[0m \u001b[0mself\u001b[0m\u001b[0;34m.\u001b[0m\u001b[0mn_iter_\u001b[0m \u001b[0;34m=\u001b[0m\u001b[0;31m \u001b[0m\u001b[0;31m\\\u001b[0m\u001b[0;34m\u001b[0m\u001b[0m\n",
      "\u001b[0;32m/Users/rishabh/.virtualenvs/ml/lib/python2.7/site-packages/sklearn/cluster/k_means_.pyc\u001b[0m in \u001b[0;36m_check_fit_data\u001b[0;34m(self, X)\u001b[0m\n\u001b[1;32m    784\u001b[0m     \u001b[0;32mdef\u001b[0m \u001b[0m_check_fit_data\u001b[0m\u001b[0;34m(\u001b[0m\u001b[0mself\u001b[0m\u001b[0;34m,\u001b[0m \u001b[0mX\u001b[0m\u001b[0;34m)\u001b[0m\u001b[0;34m:\u001b[0m\u001b[0;34m\u001b[0m\u001b[0m\n\u001b[1;32m    785\u001b[0m         \u001b[0;34m\"\"\"Verify that the number of samples given is larger than k\"\"\"\u001b[0m\u001b[0;34m\u001b[0m\u001b[0m\n\u001b[0;32m--> 786\u001b[0;31m         \u001b[0mX\u001b[0m \u001b[0;34m=\u001b[0m \u001b[0mcheck_array\u001b[0m\u001b[0;34m(\u001b[0m\u001b[0mX\u001b[0m\u001b[0;34m,\u001b[0m \u001b[0maccept_sparse\u001b[0m\u001b[0;34m=\u001b[0m\u001b[0;34m'csr'\u001b[0m\u001b[0;34m,\u001b[0m \u001b[0mdtype\u001b[0m\u001b[0;34m=\u001b[0m\u001b[0mnp\u001b[0m\u001b[0;34m.\u001b[0m\u001b[0mfloat64\u001b[0m\u001b[0;34m)\u001b[0m\u001b[0;34m\u001b[0m\u001b[0m\n\u001b[0m\u001b[1;32m    787\u001b[0m         \u001b[0;32mif\u001b[0m \u001b[0mX\u001b[0m\u001b[0;34m.\u001b[0m\u001b[0mshape\u001b[0m\u001b[0;34m[\u001b[0m\u001b[0;36m0\u001b[0m\u001b[0;34m]\u001b[0m \u001b[0;34m<\u001b[0m \u001b[0mself\u001b[0m\u001b[0;34m.\u001b[0m\u001b[0mn_clusters\u001b[0m\u001b[0;34m:\u001b[0m\u001b[0;34m\u001b[0m\u001b[0m\n\u001b[1;32m    788\u001b[0m             raise ValueError(\"n_samples=%d should be >= n_clusters=%d\" % (\n",
      "\u001b[0;32m/Users/rishabh/.virtualenvs/ml/lib/python2.7/site-packages/sklearn/utils/validation.pyc\u001b[0m in \u001b[0;36mcheck_array\u001b[0;34m(array, accept_sparse, dtype, order, copy, force_all_finite, ensure_2d, allow_nd, ensure_min_samples, ensure_min_features, warn_on_dtype, estimator)\u001b[0m\n\u001b[1;32m    413\u001b[0m                              \u001b[0;34m\" a minimum of %d is required%s.\"\u001b[0m\u001b[0;34m\u001b[0m\u001b[0m\n\u001b[1;32m    414\u001b[0m                              % (n_features, shape_repr, ensure_min_features,\n\u001b[0;32m--> 415\u001b[0;31m                                 context))\n\u001b[0m\u001b[1;32m    416\u001b[0m \u001b[0;34m\u001b[0m\u001b[0m\n\u001b[1;32m    417\u001b[0m     \u001b[0;32mif\u001b[0m \u001b[0mwarn_on_dtype\u001b[0m \u001b[0;32mand\u001b[0m \u001b[0mdtype_orig\u001b[0m \u001b[0;32mis\u001b[0m \u001b[0;32mnot\u001b[0m \u001b[0mNone\u001b[0m \u001b[0;32mand\u001b[0m \u001b[0marray\u001b[0m\u001b[0;34m.\u001b[0m\u001b[0mdtype\u001b[0m \u001b[0;34m!=\u001b[0m \u001b[0mdtype_orig\u001b[0m\u001b[0;34m:\u001b[0m\u001b[0;34m\u001b[0m\u001b[0m\n",
      "\u001b[0;31mValueError\u001b[0m: Found array with 0 feature(s) (shape=(1, 0)) while a minimum of 1 is required."
     ]
    }
   ],
   "source": [
    "\n",
    "# X = np.array([[3.1123, 1, 10], [3.211, 11, 1], \n",
    "#               [1.1, 0, 1], [1.2, 1, 10], \n",
    "#               [2.1, 4, 1], [2.2, 5, 1], \n",
    "#               [2.3, 6, 1], [2.8, 7, 1], [3.0, 9, 1]])\n",
    "X = np.array(a)\n",
    "\n",
    "from sklearn.cluster import KMeans\n",
    "kmeans = KMeans(n_clusters=6, random_state=0).fit(X)\n",
    "for each in X:\n",
    "        each = each.reshape(1, 1)\n",
    "        print(each, kmeans.predict(np.array(each)))"
   ]
  },
  {
   "cell_type": "code",
   "execution_count": null,
   "metadata": {
    "collapsed": true,
    "deletable": true,
    "editable": true
   },
   "outputs": [],
   "source": []
  }
 ],
 "metadata": {
  "kernelspec": {
   "display_name": "Python 2",
   "language": "python",
   "name": "python2"
  },
  "language_info": {
   "codemirror_mode": {
    "name": "ipython",
    "version": 2
   },
   "file_extension": ".py",
   "mimetype": "text/x-python",
   "name": "python",
   "nbconvert_exporter": "python",
   "pygments_lexer": "ipython2",
   "version": "2.7.10"
  }
 },
 "nbformat": 4,
 "nbformat_minor": 2
}
