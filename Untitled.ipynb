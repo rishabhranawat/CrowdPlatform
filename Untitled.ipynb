{
 "cells": [
  {
   "cell_type": "code",
   "execution_count": 3,
   "metadata": {
    "collapsed": true
   },
   "outputs": [],
   "source": [
    "alpha = 0.4\n",
    "\n",
    "n1 = 10\n",
    "n2 = 10"
   ]
  },
  {
   "cell_type": "code",
   "execution_count": 15,
   "metadata": {
    "collapsed": false
   },
   "outputs": [
    {
     "name": "stdout",
     "output_type": "stream",
     "text": [
      "(0.896, 0.784)\n",
      "(0.896, 0.784)\n",
      "(0.896, 0.784)\n",
      "(0.896, 0.784)\n",
      "(0.896, 0.784)\n",
      "(0.896, 0.784)\n",
      "(0.896, 0.784)\n",
      "('Switch', 0.896, 2)\n",
      "(1.0976000000000001, 0.8704000000000001)\n",
      "(1.0976000000000001, 0.8704000000000001)\n",
      "(1.0976000000000001, 0.8704000000000001)\n",
      "(1.0976000000000001, 0.8704000000000001)\n",
      "(1.0976000000000001, 0.8704000000000001)\n",
      "(1.0976000000000001, 0.8704000000000001)\n",
      "('Switch', 1.0976000000000001, 3)\n",
      "(1.21856, 0.9222400000000001)\n",
      "(1.21856, 0.9222400000000001)\n",
      "(1.21856, 0.9222400000000001)\n",
      "(1.21856, 0.9222400000000001)\n",
      "(1.21856, 0.9222400000000001)\n",
      "('Switch', 1.21856, 4)\n",
      "(1.291136, 0.953344)\n",
      "(1.291136, 0.953344)\n",
      "(1.291136, 0.953344)\n",
      "(1.291136, 0.953344)\n",
      "('Switch', 1.291136, 5)\n",
      "(1.3346816, 0.9720064)\n",
      "(1.3346816, 0.9720064)\n",
      "(1.3346816, 0.9720064)\n",
      "('Switch', 1.3346816, 6)\n",
      "(1.36080896, 0.98320384)\n",
      "(1.36080896, 0.98320384)\n",
      "('Switch', 1.36080896, 7)\n",
      "(1.3764853760000002, 0.989922304)\n",
      "('Switch', 1.3764853760000002, 8)\n",
      "('Switch', 1.3858912256, 9)\n"
     ]
    }
   ],
   "source": [
    "for i in range(1, n1, 1):\n",
    "    lhs = 1-(1-alpha)**(i+1)\n",
    "    rhs = 1-(1-alpha)**(i)+alpha*(1-(1-alpha)**i)\n",
    "    if(rhs > lhs):\n",
    "\n",
    "        print(\"Switch\", rhs, i)\n",
    "    "
   ]
  },
  {
   "cell_type": "code",
   "execution_count": null,
   "metadata": {
    "collapsed": true
   },
   "outputs": [],
   "source": []
  }
 ],
 "metadata": {
  "kernelspec": {
   "display_name": "Python 2",
   "language": "python",
   "name": "python2"
  },
  "language_info": {
   "codemirror_mode": {
    "name": "ipython",
    "version": 2
   },
   "file_extension": ".py",
   "mimetype": "text/x-python",
   "name": "python",
   "nbconvert_exporter": "python",
   "pygments_lexer": "ipython2",
   "version": "2.7.10"
  }
 },
 "nbformat": 4,
 "nbformat_minor": 2
}
