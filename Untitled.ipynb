{
 "cells": [
  {
   "cell_type": "code",
   "execution_count": 4,
   "metadata": {
    "collapsed": true
   },
   "outputs": [],
   "source": [
    "import requests\n",
    "import json\n",
    "from bs4 import BeautifulSoup"
   ]
  },
  {
   "cell_type": "code",
   "execution_count": 5,
   "metadata": {
    "collapsed": true
   },
   "outputs": [],
   "source": [
    "url = \"https://cs.stanford.edu/courses/schedules/2017-2018.autumn.php\""
   ]
  },
  {
   "cell_type": "code",
   "execution_count": 8,
   "metadata": {
    "collapsed": false
   },
   "outputs": [],
   "source": [
    "response = requests.get(url)\n",
    "soup = BeautifulSoup(response.content, 'html.parser')"
   ]
  },
  {
   "cell_type": "code",
   "execution_count": 10,
   "metadata": {
    "collapsed": false
   },
   "outputs": [],
   "source": [
    "table = soup.find('table', attrs={'class':'grey'})\n",
    "links = table.find_all('a')"
   ]
  },
  {
   "cell_type": "code",
   "execution_count": 12,
   "metadata": {
    "collapsed": false
   },
   "outputs": [
    {
     "data": {
      "text/plain": [
       "[<a href=\"http://cs1C.Stanford.EDU\">cs1C</a>,\n",
       " <a href=\"http://cs1U.Stanford.EDU\">cs1U</a>,\n",
       " <a href=\"http://cs7.Stanford.EDU\">cs7</a>,\n",
       " <a href=\"http://cs9.Stanford.EDU\">cs9</a>,\n",
       " <a href=\"http://cs28.Stanford.EDU\">cs28</a>,\n",
       " <a href=\"http://cs45N.Stanford.EDU\">cs45N</a>,\n",
       " <a href=\"http://cs50.Stanford.EDU\">cs50</a>,\n",
       " <a href=\"http://cs56N.Stanford.EDU\">cs56N</a>,\n",
       " <a href=\"http://cs102.Stanford.EDU\">cs102</a>,\n",
       " <a href=\"http://cs103.Stanford.EDU\">cs103</a>,\n",
       " <a href=\"http://cs103A.Stanford.EDU\">cs103A</a>,\n",
       " <a href=\"http://cs105.Stanford.EDU\">cs105</a>,\n",
       " <a href=\"http://cs106A.Stanford.EDU\">cs106A</a>,\n",
       " <a href=\"http://cs106AJ.Stanford.EDU\">cs106AJ</a>,\n",
       " <a href=\"http://cs106B.Stanford.EDU\">cs106B</a>,\n",
       " <a href=\"http://cs106X.Stanford.EDU\">cs106X</a>,\n",
       " <a href=\"http://cs107.Stanford.EDU\">cs107</a>,\n",
       " <a href=\"http://cs108.Stanford.EDU\">cs108</a>,\n",
       " <a href=\"http://cs109.Stanford.EDU\">cs109</a>,\n",
       " <a href=\"http://cs110.Stanford.EDU\">cs110</a>,\n",
       " <a href=\"http://cs131.Stanford.EDU\">cs131</a>,\n",
       " <a href=\"http://cs142.Stanford.EDU\">cs142</a>,\n",
       " <a href=\"http://cs144.Stanford.EDU\">cs144</a>,\n",
       " <a href=\"http://cs145.Stanford.EDU\">cs145</a>,\n",
       " <a href=\"http://cs146.Stanford.EDU\">cs146</a>,\n",
       " <a href=\"http://cs147.Stanford.EDU\">cs147</a>,\n",
       " <a href=\"http://cs148.Stanford.EDU\">cs148</a>,\n",
       " <a href=\"http://cs154.Stanford.EDU\">cs154</a>,\n",
       " <a href=\"http://cs157.Stanford.EDU\">cs157</a>,\n",
       " <a href=\"http://cs161.Stanford.EDU\">cs161</a>,\n",
       " <a href=\"http://cs183E.Stanford.EDU\">cs183E</a>,\n",
       " <a href=\"http://cs191.Stanford.EDU\">cs191</a>,\n",
       " <a href=\"http://cs191W.Stanford.EDU\">cs191W</a>,\n",
       " <a href=\"http://cs192.Stanford.EDU\">cs192</a>,\n",
       " <a href=\"http://cs193P.Stanford.EDU\">cs193P</a>,\n",
       " <a href=\"http://cs198.Stanford.EDU\">cs198</a>,\n",
       " <a href=\"http://cs198B.Stanford.EDU\">cs198B</a>,\n",
       " <a href=\"http://cs199.Stanford.EDU\">cs199</a>,\n",
       " <a href=\"http://cs199P.Stanford.EDU\">cs199P</a>,\n",
       " <a href=\"http://cs202.Stanford.EDU\">cs202</a>,\n",
       " <a href=\"http://cs206.Stanford.EDU\">cs206</a>,\n",
       " <a href=\"http://cs208E.Stanford.EDU\">cs208E</a>,\n",
       " <a href=\"http://cs221.Stanford.EDU\">cs221</a>,\n",
       " <a href=\"http://cs224W.Stanford.EDU\">cs224W</a>,\n",
       " <a href=\"http://cs229.Stanford.EDU\">cs229</a>,\n",
       " <a href=\"http://cs238.Stanford.EDU\">cs238</a>,\n",
       " <a href=\"http://cs241.Stanford.EDU\">cs241</a>,\n",
       " <a href=\"http://cs242.Stanford.EDU\">cs242</a>,\n",
       " <a href=\"http://cs244B.Stanford.EDU\">cs244B</a>,\n",
       " <a href=\"http://cs265.Stanford.EDU\">cs265</a>,\n",
       " <a href=\"http://cs273B.Stanford.EDU\">cs273B</a>,\n",
       " <a href=\"http://cs274.Stanford.EDU\">cs274</a>,\n",
       " <a href=\"http://cs279.Stanford.EDU\">cs279</a>,\n",
       " <a href=\"http://cs300.Stanford.EDU\">cs300</a>,\n",
       " <a href=\"http://cs309A.Stanford.EDU\">cs309A</a>,\n",
       " <a href=\"http://cs315B.Stanford.EDU\">cs315B</a>,\n",
       " <a href=\"http://cs325B.Stanford.EDU\">cs325B</a>,\n",
       " <a href=\"http://cs326.Stanford.EDU\">cs326</a>,\n",
       " <a href=\"http://cs331B.Stanford.EDU\">cs331B</a>,\n",
       " <a href=\"http://cs332.Stanford.EDU\">cs332</a>,\n",
       " <a href=\"http://cs333.Stanford.EDU\">cs333</a>,\n",
       " <a href=\"http://cs348C.Stanford.EDU\">cs348C</a>,\n",
       " <a href=\"http://cs349D.Stanford.EDU\">cs349D</a>,\n",
       " <a href=\"http://cs375.Stanford.EDU\">cs375</a>,\n",
       " <a href=\"http://cs376.Stanford.EDU\">cs376</a>,\n",
       " <a href=\"http://cs390A.Stanford.EDU\">cs390A</a>,\n",
       " <a href=\"http://cs390B.Stanford.EDU\">cs390B</a>,\n",
       " <a href=\"http://cs390C.Stanford.EDU\">cs390C</a>,\n",
       " <a href=\"http://cs390P.Stanford.EDU\">cs390P</a>,\n",
       " <a href=\"http://cs393.Stanford.EDU\">cs393</a>,\n",
       " <a href=\"http://cs395.Stanford.EDU\">cs395</a>,\n",
       " <a href=\"http://cs399.Stanford.EDU\">cs399</a>,\n",
       " <a href=\"http://cs399P.Stanford.EDU\">cs399P</a>,\n",
       " <a href=\"http://cs428.Stanford.EDU\">cs428</a>,\n",
       " <a href=\"http://cs448B.Stanford.EDU\">cs448B</a>,\n",
       " <a href=\"http://cs476A.Stanford.EDU\">cs476A</a>,\n",
       " <a href=\"http://cs499.Stanford.EDU\">cs499</a>,\n",
       " <a href=\"http://cs499P.Stanford.EDU\">cs499P</a>,\n",
       " <a href=\"http://cs522.Stanford.EDU\">cs522</a>,\n",
       " <a href=\"http://cs53SI.Stanford.EDU\">cs53SI</a>,\n",
       " <a href=\"http://cs544.Stanford.EDU\">cs544</a>,\n",
       " <a href=\"http://cs547.Stanford.EDU\">cs547</a>,\n",
       " <a href=\"http://cs581.Stanford.EDU\">cs581</a>,\n",
       " <a href=\"http://cs801.Stanford.EDU\">cs801</a>,\n",
       " <a href=\"http://cs802.Stanford.EDU\">cs802</a>]"
      ]
     },
     "execution_count": 12,
     "metadata": {},
     "output_type": "execute_result"
    }
   ],
   "source": [
    "links"
   ]
  },
  {
   "cell_type": "code",
   "execution_count": null,
   "metadata": {
    "collapsed": true
   },
   "outputs": [],
   "source": []
  }
 ],
 "metadata": {
  "kernelspec": {
   "display_name": "Python 2",
   "language": "python",
   "name": "python2"
  },
  "language_info": {
   "codemirror_mode": {
    "name": "ipython",
    "version": 2
   },
   "file_extension": ".py",
   "mimetype": "text/x-python",
   "name": "python",
   "nbconvert_exporter": "python",
   "pygments_lexer": "ipython2",
   "version": "2.7.10"
  }
 },
 "nbformat": 4,
 "nbformat_minor": 2
}
