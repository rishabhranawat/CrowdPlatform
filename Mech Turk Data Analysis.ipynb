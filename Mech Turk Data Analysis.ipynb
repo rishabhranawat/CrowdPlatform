{
 "cells": [
  {
   "cell_type": "code",
   "execution_count": 138,
   "metadata": {
    "collapsed": true
   },
   "outputs": [],
   "source": [
    "import csv\n",
    "import json\n",
    "import collections\n",
    "\n",
    "import pandas as pd\n",
    "import numpy as np"
   ]
  },
  {
   "cell_type": "code",
   "execution_count": 139,
   "metadata": {
    "collapsed": false
   },
   "outputs": [],
   "source": [
    "df = pd.read_csv('../Downloads/Batch_3783234_batch_results.csv')"
   ]
  },
  {
   "cell_type": "code",
   "execution_count": 140,
   "metadata": {
    "collapsed": false
   },
   "outputs": [],
   "source": [
    "def get_number_urls_with_undecided(df):\n",
    "    data = {}\n",
    "    for index, row in df.iterrows():\n",
    "        url = row[df.columns.get_loc('Input.url')]\n",
    "        cat = row[df.columns.get_loc('Answer.category.label')]\n",
    "        if url not in data:\n",
    "            data[url] = []\n",
    "        data[url].append(cat)\n",
    "    \n",
    "    num_with_undecided = 0\n",
    "    undecided = set()\n",
    "    decided = set()\n",
    "    for url, cats in data.items():\n",
    "        counter = collections.Counter(cats)\n",
    "        sorted_by = counter.most_common()\n",
    "        \n",
    "        max_votes = sorted_by[0][1]\n",
    "        if(len(sorted_by) > 1 and sorted_by[1][1] == max_votes):\n",
    "            num_with_undecided += 1\n",
    "            undecided.add(url)\n",
    "        else:\n",
    "            decided.add(url)\n",
    "        \n",
    "    return decided, undecided, num_with_undecided, (2*float(num_with_undecided)/df.shape[0])*100.0"
   ]
  },
  {
   "cell_type": "code",
   "execution_count": 141,
   "metadata": {
    "collapsed": false
   },
   "outputs": [],
   "source": [
    "def average_time_taken_for_undecided(df, undecided, workers):\n",
    "    \n",
    "    time_taken = 0.0\n",
    "    num_of_undecided = len(undecided)\n",
    "    for url in undecided:\n",
    "        rows = df.loc[df['Input.url'] == url]\n",
    "        for index, row in rows.iterrows():\n",
    "            time_taken += row[df.columns.get_loc('WorkTimeInSeconds')]\n",
    "    return time_taken/(workers*num_of_undecided)"
   ]
  },
  {
   "cell_type": "code",
   "execution_count": 142,
   "metadata": {
    "collapsed": false
   },
   "outputs": [],
   "source": [
    "decided, undecided, num_with_undecided, percentage_undecided = get_number_urls_with_undecided(df)\n",
    "average_time_undecided = average_time_taken_for_undecided(df, undecided, 2)\n",
    "average_time_decided = average_time_taken_for_undecided(df, decided, 2)"
   ]
  },
  {
   "cell_type": "code",
   "execution_count": 143,
   "metadata": {
    "collapsed": false
   },
   "outputs": [
    {
     "name": "stdout",
     "output_type": "stream",
     "text": [
      "Batch 1: 44 Unique Urls, 5 lesson plans\n",
      "Number of Undecided Urls: 27\n",
      "Percentage of Undecided Urls: 61.3636363636\n",
      "Average Time Taken for Undecided Urls: 44.7777777778\n",
      "Average Time Taken for Decided Urls: 44.0625\n"
     ]
    }
   ],
   "source": [
    "print(\"Batch 1: 44 Unique Urls, 5 lesson plans\")\n",
    "print(\"Number of Undecided Urls: \"+str(num_with_undecided))\n",
    "print(\"Percentage of Undecided Urls: \"+str(percentage_undecided))\n",
    "print(\"Average Time Taken for Undecided Urls: \"+str(average_time_undecided))\n",
    "print(\"Average Time Taken for Decided Urls: \"+str(average_time_decided))"
   ]
  },
  {
   "cell_type": "code",
   "execution_count": 145,
   "metadata": {
    "collapsed": false
   },
   "outputs": [
    {
     "data": {
      "text/plain": [
       "(88, 33)"
      ]
     },
     "execution_count": 145,
     "metadata": {},
     "output_type": "execute_result"
    }
   ],
   "source": [
    "df.shape"
   ]
  },
  {
   "cell_type": "code",
   "execution_count": null,
   "metadata": {
    "collapsed": true
   },
   "outputs": [],
   "source": []
  }
 ],
 "metadata": {
  "kernelspec": {
   "display_name": "Python 2",
   "language": "python",
   "name": "python2"
  },
  "language_info": {
   "codemirror_mode": {
    "name": "ipython",
    "version": 2
   },
   "file_extension": ".py",
   "mimetype": "text/x-python",
   "name": "python",
   "nbconvert_exporter": "python",
   "pygments_lexer": "ipython2",
   "version": "2.7.10"
  }
 },
 "nbformat": 4,
 "nbformat_minor": 2
}
